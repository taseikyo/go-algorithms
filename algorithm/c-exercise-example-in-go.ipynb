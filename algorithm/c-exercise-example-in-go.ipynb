{
 "cells": [
  {
   "cell_type": "markdown",
   "id": "medium-voltage",
   "metadata": {},
   "source": [
    "> @Date    : 2021-05-13 19:34:00\n",
    ">\n",
    "> @Author  : Lewis Tian (taseikyo@gmail.com)\n",
    ">\n",
    "> @Link    : github.com/taseikyo\n",
    "\n",
    "# C 语言经典 100 例\n",
    "\n",
    "菜鸟教程上有 C 语言的代码：https://www.runoob.com/cprogramming/c-100-examples.html\n",
    "\n",
    "为了练习 Go 语言，用 Go 实现一遍 :3\n",
    "\n",
    "## T1：有1、2、3、4个数字，能组成多少个互不相同且无重复数字的三位数？都是多少？"
   ]
  },
  {
   "cell_type": "code",
   "execution_count": 1,
   "id": "fallen-genre",
   "metadata": {},
   "outputs": [
    {
     "name": "stdout",
     "output_type": "stream",
     "text": [
      "1 2 3 4\n",
      "1 2 4 3\n",
      "1 3 2 4\n",
      "1 3 4 2\n",
      "1 4 2 3\n",
      "1 4 3 2\n",
      "2 1 3 4\n",
      "2 1 4 3\n",
      "2 3 1 4\n",
      "2 3 4 1\n",
      "2 4 1 3\n",
      "2 4 3 1\n",
      "3 1 2 4\n",
      "3 1 4 2\n",
      "3 2 1 4\n",
      "3 2 4 1\n",
      "3 4 1 2\n",
      "3 4 2 1\n",
      "4 1 2 3\n",
      "4 1 3 2\n",
      "4 2 1 3\n",
      "4 2 3 1\n",
      "4 3 1 2\n",
      "4 3 2 1\n"
     ]
    }
   ],
   "source": [
    "import \"fmt\"\n",
    "\n",
    "func t1() {\n",
    "    sum := 1+2+3+4\n",
    "    for i := 1;i < 5;i++ {\n",
    "        for j := 1;j < 5;j++ {\n",
    "            for k := 1;k < 5;k++ {\n",
    "                if i != j && j != k && i != k {\n",
    "                    fmt.Println(i, j, k, sum-i-j-k)\n",
    "                }\n",
    "            }\n",
    "        }\n",
    "    }\n",
    "}\n",
    "\n",
    "t1()"
   ]
  },
  {
   "cell_type": "markdown",
   "id": "thrown-attachment",
   "metadata": {},
   "source": [
    "## T2：企业发放的奖金根据利润提成。\n",
    "\n",
    "- 利润低于或等于 10 万元时，奖金可提 10%；\n",
    "- 利润高于 10 万元，低于 20 万元时，低于 10 万元的部分按 10% 提成，高于 10 万元的部分，可提成 7.5%；\n",
    "- 20 万到 40 万之间时，高于 20 万元的部分，可提成 5%；\n",
    "- 40 万到 60 万之间时高于 40 万元的部分，可提成 3%；\n",
    "- 60 万到 100 万之间时，高于 60 万元的部分，可提成 1.5%；\n",
    "- 高于 100 万元时，超过 100 万元的部分按 1% 提成。\n",
    "\n",
    "从键盘输入当月利润，求应发放奖金总数？"
   ]
  },
  {
   "cell_type": "code",
   "execution_count": 2,
   "id": "ambient-value",
   "metadata": {},
   "outputs": [
    {
     "name": "stdout",
     "output_type": "stream",
     "text": [
      "11500\n"
     ]
    }
   ],
   "source": [
    "import \"fmt\"\n",
    "\n",
    "func t2() {\n",
    "    money := 12.0 * 10000\n",
    "\n",
    "    var bonus float64\n",
    "    bonus1 := 100000 * 0.1\n",
    "    bonus2 := bonus1 + 100000*0.075\n",
    "    bonus4 := bonus2 + 200000*0.05\n",
    "    bonus6 := bonus4 + 200000*0.03\n",
    "    bonus10 := bonus6 + 400000*0.015\n",
    "    if money <= 100000 {\n",
    "        bonus = money * 0.1\n",
    "    } else if money <= 200000 {\n",
    "        bonus = bonus1 + (money-100000)*0.075\n",
    "    } else if money <= 400000 {\n",
    "        bonus = bonus2 + (money-200000)*0.05\n",
    "    } else if money <= 600000 {\n",
    "        bonus = bonus4 + (money-400000)*0.03\n",
    "    } else if money <= 1000000 {\n",
    "        bonus = bonus6 + (money-600000)*0.015\n",
    "    } else {\n",
    "        bonus = bonus10 + (money-1000000)*0.01\n",
    "    }\n",
    "    fmt.Println(bonus)\n",
    "}\n",
    "\n",
    "t2()"
   ]
  },
  {
   "cell_type": "markdown",
   "id": "electronic-division",
   "metadata": {},
   "source": [
    "## T3：一个整数，它加上 100 后是一个完全平方数，再加上 168 又是一个完全平方数，请问该数是多少？\n",
    "\n",
    "程序分析：\n",
    "\n",
    "假设该数为 x。\n",
    "\n",
    "1. 则：x + 100 = n^2, x + 100 + 168 = m^2\n",
    "1. 计算等式：m^2 - n^2 = (m + n)(m - n) = 168\n",
    "1. 设置： m + n = i，m - n = j，i * j =168，i 和 j 至少一个是偶数\n",
    "1. 可得： m = (i + j) / 2， n = (i - j) / 2，i 和 j 要么都是偶数，要么都是奇数。\n",
    "1. 从 3 和 4 推导可知道，i 与 j 均是大于等于 2 的偶数。\n",
    "1. 由于 i * j = 168， j>=2，则 1 < i < 168 / 2 + 1。\n",
    "1. 接下来将 i 的所有数字循环计算即可。"
   ]
  },
  {
   "cell_type": "code",
   "execution_count": 3,
   "id": "eleven-stick",
   "metadata": {},
   "outputs": [
    {
     "name": "stdout",
     "output_type": "stream",
     "text": [
      "-99 + 100 = 1 * 1\n",
      "-99 + 268 = 13 * 13\n",
      "21 + 100 = 11 * 11\n",
      "21 + 268 = 17 * 17\n",
      "261 + 100 = 19 * 19\n",
      "261 + 268 = 23 * 23\n",
      "1581 + 100 = 41 * 41\n",
      "1581 + 268 = 43 * 43\n"
     ]
    }
   ],
   "source": [
    "import \"fmt\"\n",
    "\n",
    "func t3() {\n",
    "    var i, j, m, n, x int\n",
    "    for i = 1; i < 168/2+1; i++ {\n",
    "        if 168%i == 0 {\n",
    "            j = 168 / i\n",
    "            if i > j && (i+j)%2 == 0 && (i-j)%2 == 0 {\n",
    "                m = (i + j) / 2\n",
    "                n = (i - j) / 2\n",
    "                x = n*n - 100\n",
    "                fmt.Printf(\"%d + 100 = %d * %d\\n\", x, n, n)\n",
    "                fmt.Printf(\"%d + 268 = %d * %d\\n\", x, m, m)\n",
    "            }\n",
    "        }\n",
    "    }\n",
    "}\n",
    "t3()"
   ]
  },
  {
   "cell_type": "markdown",
   "id": "curious-plant",
   "metadata": {},
   "source": [
    "## T4：输入某年某月某日，判断这一天是这一年的第几天？\n",
    "\n",
    "程序分析：以3月5日为例，应该先把前两个月的加起来，然后再加上5天即本年的第几天，特殊情况，闰年且输入月份大于3时需考虑多加一天。"
   ]
  },
  {
   "cell_type": "code",
   "execution_count": 4,
   "id": "atomic-construction",
   "metadata": {},
   "outputs": [
    {
     "name": "stdout",
     "output_type": "stream",
     "text": [
      "这是这一年的第 275 天。\n"
     ]
    }
   ],
   "source": [
    "import \"fmt\"\n",
    "\n",
    "func t4() {\n",
    "    var day, month, year, sum, leap int\n",
    "    // fmt.Print(\"Input: year month day: \")\n",
    "    // fmt.Scanf(\"%d %d %d\", &year, &month, &day)\n",
    "    year, month, day = 2015, 10, 2\n",
    "    switch (month) {\n",
    "    case 1:\n",
    "        sum = 0\n",
    "    case 2:\n",
    "        sum = 31\n",
    "    case 3:\n",
    "        sum = 59\n",
    "    case 4:\n",
    "        sum = 90\n",
    "    case 5:\n",
    "        sum = 120\n",
    "    case 6:\n",
    "        sum = 151\n",
    "    case 7:\n",
    "        sum = 181\n",
    "    case 8:\n",
    "        sum = 212\n",
    "    case 9:\n",
    "        sum = 243\n",
    "    case 10:\n",
    "        sum = 273\n",
    "    case 11:\n",
    "        sum = 304\n",
    "    case 12:\n",
    "        sum = 334\n",
    "    default:\n",
    "        sum = 0\n",
    "    }\n",
    "    sum = sum + day\n",
    "    if year%400 == 0 || (year%4 == 0 && year%100 != 0) {\n",
    "        leap = 1\n",
    "    } else {\n",
    "        leap = 0\n",
    "    }\n",
    "    // *如果是闰年且月份大于2,总天数应该加一天\n",
    "    if leap == 1 && month > 2 {\n",
    "        sum++\n",
    "    }\n",
    "    fmt.Printf(\"这是这一年的第 %d 天。\\n\", sum)\n",
    "}\n",
    "t4()"
   ]
  },
  {
   "cell_type": "markdown",
   "id": "equal-artwork",
   "metadata": {},
   "source": [
    "## T5：输入三个整数 x，y，z，请把这三个数由小到大输出。"
   ]
  },
  {
   "cell_type": "code",
   "execution_count": 5,
   "id": "adjusted-garbage",
   "metadata": {},
   "outputs": [
    {
     "name": "stdout",
     "output_type": "stream",
     "text": [
      "从小到大排序: 1 2 5\n"
     ]
    }
   ],
   "source": [
    "import \"fmt\"\n",
    "\n",
    "func t5() {\n",
    "    var x, y, z int\n",
    "    // fmt.Print(\"请输入三个数字：\")\n",
    "    // fmt.Scanf(\"%d %d %d\", &x, &y, &z)\n",
    "    x, y, z = 2, 5, 1\n",
    "    if x > y {\n",
    "        x, y = y, x\n",
    "    }\n",
    "    if x > z {\n",
    "        x, z = z, x\n",
    "    }\n",
    "    if y > z {\n",
    "        y, z = z, y\n",
    "    }\n",
    "    fmt.Printf(\"从小到大排序: %d %d %d\\n\", x, y, z)\n",
    "}\n",
    "t5()"
   ]
  },
  {
   "cell_type": "markdown",
   "id": "personal-suggestion",
   "metadata": {},
   "source": [
    "## T6：用 * 号输出字母 C 的图案。"
   ]
  },
  {
   "cell_type": "code",
   "execution_count": 6,
   "id": "multiple-archives",
   "metadata": {},
   "outputs": [
    {
     "name": "stdout",
     "output_type": "stream",
     "text": [
      "用 * 号输出字母 C!\n",
      " ****\n",
      " *\n",
      " * \n",
      " ****\n"
     ]
    }
   ],
   "source": [
    "import \"fmt\"\n",
    "\n",
    "func t6() {\n",
    "    fmt.Printf(\"用 * 号输出字母 C!\\n\")\n",
    "    fmt.Printf(\" ****\\n\")\n",
    "    fmt.Printf(\" *\\n\")\n",
    "    fmt.Printf(\" * \\n\")\n",
    "    fmt.Printf(\" ****\\n\")\n",
    "}\n",
    "t6()"
   ]
  },
  {
   "cell_type": "markdown",
   "id": "frequent-turkey",
   "metadata": {},
   "source": [
    "## T7：输出特殊图案，请在 c 环境中运行，看一看，Very Beautiful!"
   ]
  },
  {
   "cell_type": "code",
   "execution_count": 7,
   "id": "suspected-medicine",
   "metadata": {},
   "outputs": [
    {
     "name": "stdout",
     "output_type": "stream",
     "text": [
      "Ò´´´Ò\n",
      "´Ò´Ò´\n",
      "´´Ò´´\n",
      "´Ò´Ò´\n",
      "Ò´´´Ò\n"
     ]
    }
   ],
   "source": [
    "import \"fmt\"\n",
    "\n",
    "func t7() {\n",
    "    var a, b = 180, 210\n",
    "    fmt.Printf(\"%c%c%c%c%c\\n\", b, a, a, a, b)\n",
    "    fmt.Printf(\"%c%c%c%c%c\\n\", a, b, a, b, a)\n",
    "    fmt.Printf(\"%c%c%c%c%c\\n\", a, a, b, a, a)\n",
    "    fmt.Printf(\"%c%c%c%c%c\\n\", a, b, a, b, a)\n",
    "    fmt.Printf(\"%c%c%c%c%c\\n\", b, a, a, a, b)\n",
    "}\n",
    "t7()"
   ]
  },
  {
   "cell_type": "markdown",
   "id": "hairy-investigation",
   "metadata": {},
   "source": [
    "## T8：输出 9 * 9 口诀"
   ]
  },
  {
   "cell_type": "code",
   "execution_count": 8,
   "id": "injured-drawing",
   "metadata": {},
   "outputs": [
    {
     "name": "stdout",
     "output_type": "stream",
     "text": [
      " 1 *  1 =  1 \n",
      " 2 *  1 =  2  2 *  2 =  4 \n",
      " 3 *  1 =  3  3 *  2 =  6  3 *  3 =  9 \n",
      " 4 *  1 =  4  4 *  2 =  8  4 *  3 = 12  4 *  4 = 16 \n",
      " 5 *  1 =  5  5 *  2 = 10  5 *  3 = 15  5 *  4 = 20  5 *  5 = 25 \n",
      " 6 *  1 =  6  6 *  2 = 12  6 *  3 = 18  6 *  4 = 24  6 *  5 = 30  6 *  6 = 36 \n",
      " 7 *  1 =  7  7 *  2 = 14  7 *  3 = 21  7 *  4 = 28  7 *  5 = 35  7 *  6 = 42  7 *  7 = 49 \n",
      " 8 *  1 =  8  8 *  2 = 16  8 *  3 = 24  8 *  4 = 32  8 *  5 = 40  8 *  6 = 48  8 *  7 = 56  8 *  8 = 64 \n",
      " 9 *  1 =  9  9 *  2 = 18  9 *  3 = 27  9 *  4 = 36  9 *  5 = 45  9 *  6 = 54  9 *  7 = 63  9 *  8 = 72  9 *  9 = 81 \n"
     ]
    }
   ],
   "source": [
    "import \"fmt\"\n",
    "\n",
    "func t8() {\n",
    "    size := 9\n",
    "    for i := 1; i <= size; i++ {\n",
    "        for j := 1; j <= i; j++ {\n",
    "            fmt.Printf(\"%2d * %2d = %2d \", i, j, i*j)\n",
    "        }\n",
    "        fmt.Println()\n",
    "    }\n",
    "\n",
    "}\n",
    "t8()"
   ]
  },
  {
   "cell_type": "markdown",
   "id": "comparable-rocket",
   "metadata": {},
   "source": [
    "## T9：要求输出国际象棋棋盘"
   ]
  },
  {
   "cell_type": "code",
   "execution_count": 9,
   "id": "based-canal",
   "metadata": {},
   "outputs": [
    {
     "name": "stdout",
     "output_type": "stream",
     "text": [
      "⬛⬜⬛⬜⬛⬜⬛⬜\n",
      "⬜⬛⬜⬛⬜⬛⬜⬛\n",
      "⬛⬜⬛⬜⬛⬜⬛⬜\n",
      "⬜⬛⬜⬛⬜⬛⬜⬛\n",
      "⬛⬜⬛⬜⬛⬜⬛⬜\n",
      "⬜⬛⬜⬛⬜⬛⬜⬛\n",
      "⬛⬜⬛⬜⬛⬜⬛⬜\n",
      "⬜⬛⬜⬛⬜⬛⬜⬛\n"
     ]
    }
   ],
   "source": [
    "import \"fmt\"\n",
    "\n",
    "func t9() {\n",
    "    size := 8\n",
    "    for i := 1; i <= size; i++ {\n",
    "        for j := 1; j <= size; j++ {\n",
    "            if (i+j)%2 == 0 {\n",
    "                fmt.Print(\"⬛\")\n",
    "            } else {\n",
    "                fmt.Print(\"⬜\")\n",
    "            }\n",
    "        }\n",
    "        fmt.Println()\n",
    "    }\n",
    "\n",
    "}\n",
    "t9()"
   ]
  },
  {
   "cell_type": "markdown",
   "id": "ecological-christian",
   "metadata": {},
   "source": [
    "## T10：打印楼梯，同时在楼梯上方打印两个笑脸"
   ]
  },
  {
   "cell_type": "code",
   "execution_count": 10,
   "id": "tamil-voluntary",
   "metadata": {
    "scrolled": true
   },
   "outputs": [
    {
     "name": "stdout",
     "output_type": "stream",
     "text": [
      "😁😁\n",
      "⬛⬛\n",
      "⬛⬛⬛⬛\n",
      "⬛⬛⬛⬛⬛⬛\n",
      "⬛⬛⬛⬛⬛⬛⬛⬛\n",
      "⬛⬛⬛⬛⬛⬛⬛⬛⬛⬛\n",
      "⬛⬛⬛⬛⬛⬛⬛⬛⬛⬛⬛⬛\n",
      "⬛⬛⬛⬛⬛⬛⬛⬛⬛⬛⬛⬛⬛⬛\n",
      "⬛⬛⬛⬛⬛⬛⬛⬛⬛⬛⬛⬛⬛⬛⬛⬛\n",
      "⬛⬛⬛⬛⬛⬛⬛⬛⬛⬛⬛⬛⬛⬛⬛⬛⬛⬛\n",
      "⬛⬛⬛⬛⬛⬛⬛⬛⬛⬛⬛⬛⬛⬛⬛⬛⬛⬛⬛⬛\n",
      "⬛⬛⬛⬛⬛⬛⬛⬛⬛⬛⬛⬛⬛⬛⬛⬛⬛⬛⬛⬛⬛⬛\n"
     ]
    }
   ],
   "source": [
    "import \"fmt\"\n",
    "\n",
    "func t10() {\n",
    "    size := 11\n",
    "    fmt.Printf(\"😁😁\\n\")\n",
    "    for i := 1; i <= size; i++ {\n",
    "        for j := 1; j <= i; j++ {\n",
    "            fmt.Printf(\"⬛⬛\")\n",
    "        }\n",
    "        fmt.Println()\n",
    "    }\n",
    "\n",
    "}\n",
    "t10()"
   ]
  },
  {
   "cell_type": "markdown",
   "id": "small-shock",
   "metadata": {},
   "source": [
    "## T11：古典问题（兔子生崽）：有一对兔子，从出生后第 3 个月起每个月都生一对兔子，小兔子长到第三个月后每个月又生一对兔子，假如兔子都不死，问每个月的兔子总数为多少？（输出前 40 个月即可）\n",
    "\n",
    "程序分析：兔子的规律为数列1,1,2,3,5,8,13,21....，即下个月是上两个月之和（从第三个月开始）。"
   ]
  },
  {
   "cell_type": "code",
   "execution_count": 11,
   "id": "regular-envelope",
   "metadata": {
    "scrolled": true
   },
   "outputs": [
    {
     "name": "stdout",
     "output_type": "stream",
     "text": [
      "                   1                    1\n",
      "                   2                    3                   5                    8\n",
      "                  13                   21                  34                   55\n",
      "                  89                  144                 233                  377\n",
      "                 610                  987                1597                 2584\n",
      "                4181                 6765               10946                17711\n",
      "               28657                46368               75025               121393\n",
      "              196418               317811              514229               832040\n",
      "             1346269              2178309             3524578              5702887\n",
      "             9227465             14930352            24157817             39088169\n",
      "            63245986            102334155           165580141            267914296\n",
      "           433494437            701408733          1134903170           1836311903\n",
      "          2971215073           4807526976          7778742049          12586269025\n",
      "         20365011074          32951280099         53316291173          86267571272\n",
      "        139583862445         225851433717        365435296162         591286729879\n",
      "        956722026041        1548008755920       2504730781961        4052739537881\n",
      "       6557470319842       10610209857723      17167680177565       27777890035288\n",
      "      44945570212853       72723460248141     117669030460994      190392490709135\n",
      "     308061521170129      498454011879264     806515533049393     1304969544928657\n",
      "    2111485077978050     3416454622906707    5527939700884757     8944394323791464\n",
      "   14472334024676221    23416728348467685"
     ]
    }
   ],
   "source": [
    "import \"fmt\"\n",
    "\n",
    "func t11() {\n",
    "    f1, f2 := 1, 1\n",
    "    size := 40\n",
    "    for i := 0; i < size; i++ {\n",
    "        fmt.Printf(\"%20d %20d\", f1, f2)\n",
    "        f1 = f1 + f2\n",
    "        f2 = f1 + f2\n",
    "        if i%2 == 0 {\n",
    "            fmt.Println()\n",
    "        }\n",
    "    }\n",
    "}\n",
    "t11()"
   ]
  },
  {
   "cell_type": "markdown",
   "id": "according-nutrition",
   "metadata": {},
   "source": [
    "## T12：判断101 到 200 之间的素数"
   ]
  },
  {
   "cell_type": "code",
   "execution_count": 12,
   "id": "inner-korean",
   "metadata": {},
   "outputs": [
    {
     "name": "stdout",
     "output_type": "stream",
     "text": [
      "101 103 107 109 113 127 131 137 139 149 151 157 163 167 173 179 181 191 193 197 199 "
     ]
    }
   ],
   "source": [
    "import (\n",
    "    \"fmt\"\n",
    "    \"math\"\n",
    ")\n",
    "\n",
    "func t12_1(lower, upper int) {\n",
    "    // lower, upper := 101, 201\n",
    "    for i := lower; i < upper; i++ {\n",
    "        flag := false\n",
    "        for j := 2; j <= int(math.Sqrt(float64(i))); j++ {\n",
    "            if i%j == 0 {\n",
    "                flag = true\n",
    "                break\n",
    "            }\n",
    "        }\n",
    "        if !flag {\n",
    "            fmt.Printf(\"%d \", i)\n",
    "        }\n",
    "\n",
    "    }\n",
    "}\n",
    "\n",
    "func t12() {\n",
    "    t12_1(101, 201)\n",
    "}\n",
    "\n",
    "t12()"
   ]
  },
  {
   "cell_type": "markdown",
   "id": "unexpected-certificate",
   "metadata": {},
   "source": [
    "## T13：打印出所有的\"水仙花数\"，所谓\"水仙花数\"是指一个三位数，其各位数字立方和等于该数本身"
   ]
  },
  {
   "cell_type": "code",
   "execution_count": 13,
   "id": "overhead-radiation",
   "metadata": {},
   "outputs": [
    {
     "name": "stdout",
     "output_type": "stream",
     "text": [
      "153 370 371 407 "
     ]
    }
   ],
   "source": [
    "import \"fmt\"\n",
    "\n",
    "func t13() {\n",
    "    var x, y, z int\n",
    "    for i := 100; i < 1000; i++ {\n",
    "        x = i % 10\n",
    "        y = i / 10 % 10\n",
    "        z = i / 100 % 10\n",
    "        if i == (x*x*x + y*y*y + z*z*z) {\n",
    "            fmt.Printf(\"%d \", i)\n",
    "        }\n",
    "    }\n",
    "}\n",
    "t13()"
   ]
  },
  {
   "cell_type": "markdown",
   "id": "higher-mission",
   "metadata": {},
   "source": [
    "## T14：将一个正整数分解质因数。例如：输入 90 打印出 `90=2*3*3*5`\n",
    "\n",
    "程序分析：对 n 进行分解质因数，应先找到一个最小的质数 k，然后按下述步骤完成：\n",
    "\n",
    "1. 如果这个质数恰等于（小于的时候，继续执行循环）n，则说明分解质因数的过程已经结束，另外 打印出即可。\n",
    "1. 如果 n 能被 k 整除，则应打印出 k 的值，并用 n 除以 k 的商，作为新的正整数 n。重复执行第二步。\n",
    "1. 如果 n 不能被 k 整除，则用 k+1 作为 k 的值，重复执行第一步。"
   ]
  },
  {
   "cell_type": "code",
   "execution_count": 14,
   "id": "interesting-range",
   "metadata": {},
   "outputs": [
    {
     "name": "stdout",
     "output_type": "stream",
     "text": [
      "1025=5*5*41"
     ]
    }
   ],
   "source": [
    "import \"fmt\"\n",
    "\n",
    "func t14() {\n",
    "    n := 1025\n",
    "    fmt.Printf(\"%d=\", n)\n",
    "    for i := 2; i <= n; i++ {\n",
    "        for n%i == 0 {\n",
    "            fmt.Printf(\"%d\", i)\n",
    "            n /= i\n",
    "            if n != 1 {\n",
    "                fmt.Printf(\"*\")\n",
    "            }\n",
    "        }\n",
    "    }\n",
    "}\n",
    "t14()"
   ]
  },
  {
   "cell_type": "markdown",
   "id": "appropriate-employment",
   "metadata": {},
   "source": [
    "## T15：利用条件运算符的嵌套来完成此题：学习成绩 >=90 分的同学用 A 表示，60-89 分之间的用 B 表示，60 分以下的用 C 表示。"
   ]
  },
  {
   "cell_type": "code",
   "execution_count": 15,
   "id": "adjustable-hampshire",
   "metadata": {},
   "outputs": [
    {
     "name": "stdout",
     "output_type": "stream",
     "text": [
      "B\n"
     ]
    }
   ],
   "source": [
    "import \"fmt\"\n",
    "\n",
    "func t15() {\n",
    "    var grade int8\n",
    "    score := 89\n",
    "    if score >= 90 {\n",
    "        grade = 'A'\n",
    "    } else if score >= 60 {\n",
    "        grade = 'B'\n",
    "    } else {\n",
    "        grade = 'C'\n",
    "    }\n",
    "    fmt.Printf(\"%c\\n\", grade)\n",
    "}\n",
    "t15()"
   ]
  },
  {
   "cell_type": "markdown",
   "id": "catholic-russell",
   "metadata": {},
   "source": [
    "## T16：输入两个正整数 m 和 n，求其最大公约数和最小公倍数。\n",
    "\n",
    "程序分析：\n",
    "\n",
    "- 最小公倍数=输入的两个数之积除于它们的最大公约数，关键是求出最大公约数；\n",
    "- 求最大公约数用辗转相除法（又名欧几里德算法）"
   ]
  },
  {
   "cell_type": "code",
   "execution_count": 16,
   "id": "criminal-status",
   "metadata": {},
   "outputs": [
    {
     "name": "stdout",
     "output_type": "stream",
     "text": [
      "这两个数的最大公约数是1，最小公倍数是90\n"
     ]
    }
   ],
   "source": [
    "import \"fmt\"\n",
    "\n",
    "func t16() {\n",
    "    var a, b, r, n int\n",
    "//     fmt.Printf(\"请输入两个数字：\")\n",
    "//     fmt.Scanf(\"%d %d\", &a, &b)\n",
    "    a, b = 10, 9\n",
    "    if a < b {\n",
    "        a, b = b, a\n",
    "    }\n",
    "    r = a % b\n",
    "    n = a * b\n",
    "    for r != 0 {\n",
    "        a = b\n",
    "        b = r\n",
    "        r = a % b\n",
    "    }\n",
    "    fmt.Printf(\"这两个数的最大公约数是%d，最小公倍数是%d\\n\", b, n/b)\n",
    "}\n",
    "t16()"
   ]
  },
  {
   "cell_type": "markdown",
   "id": "hollywood-crime",
   "metadata": {},
   "source": [
    "## T17：输入一行字符，分别统计出其中英文字母、空格、数字和其它字符的个数。"
   ]
  },
  {
   "cell_type": "code",
   "execution_count": 17,
   "id": "critical-congo",
   "metadata": {},
   "outputs": [],
   "source": [
    "import \"fmt\"\n",
    "\n",
    "func t17() {\n",
    "    var c int8\n",
    "    letters, spaces, digits, others := 0, 0, 0, 0\n",
    "    fmt.Printf(\"请输入一些字母：\")\n",
    "    for {\n",
    "        fmt.Scanf(\"%c\", &c)\n",
    "        if c == '\\n' {\n",
    "            break\n",
    "        }\n",
    "        if (c >= 'a' && c <= 'z') || (c >= 'A' && c <= 'Z') {\n",
    "            letters++\n",
    "        } else if c >= '0' && c <= '9' {\n",
    "            digits++\n",
    "        } else if c == ' ' {\n",
    "            spaces++\n",
    "        } else {\n",
    "            others++\n",
    "        }\n",
    "    }\n",
    "    fmt.Printf(\"字母=%d,数字=%d,空格=%d,其他=%d\\n\", letters, digits, spaces, others)\n",
    "}"
   ]
  },
  {
   "cell_type": "markdown",
   "id": "blond-kentucky",
   "metadata": {},
   "source": [
    "## T18：求 s=a+aa+aaa+aaaa+aa...a 的值，其中 a 是一个数字。例如 2+22+222+2222+22222 (此时共有 5 个数相加)，几个数相加有键盘控制。"
   ]
  },
  {
   "cell_type": "code",
   "execution_count": 18,
   "id": "fabulous-president",
   "metadata": {},
   "outputs": [],
   "source": [
    "import \"fmt\"\n",
    "\n",
    "func t18() {\n",
    "    a, n, sum := 0, 0, 0\n",
    "    fmt.Printf(\"请输入 a 和 n：\")\n",
    "    fmt.Scanf(\"%d%d\", &a, &n)\n",
    "    for n > 0 {\n",
    "        sum += a * n\n",
    "        a *= 10\n",
    "        n--\n",
    "    }\n",
    "    fmt.Printf(\"sum: %d\\n\", sum)\n",
    "}"
   ]
  },
  {
   "cell_type": "markdown",
   "id": "generic-wilson",
   "metadata": {},
   "source": [
    "## T19：一个数如果恰好等于它的因子之和，这个数就称为 \"完数\"。例如 6=1＋2＋3. 编程找出 1000 以内的所有完数。"
   ]
  },
  {
   "cell_type": "code",
   "execution_count": 19,
   "id": "olive-transparency",
   "metadata": {},
   "outputs": [],
   "source": [
    "import \"fmt\"\n",
    "\n",
    "func t19() {\n",
    "    upper := 1000\n",
    "    for i := 1; i < upper; i++ {\n",
    "        sum := 0\n",
    "        for j := 1; j <= i/2; j++ {\n",
    "            if i%j == 0 {\n",
    "                sum += j\n",
    "            }\n",
    "        }\n",
    "        if i == sum {\n",
    "            fmt.Printf(\"%d \", i)\n",
    "        }\n",
    "    }\n",
    "}"
   ]
  },
  {
   "cell_type": "markdown",
   "id": "worldwide-familiar",
   "metadata": {},
   "source": [
    "## T20：一球从 100 米高度自由落下，每次落地后反跳回原高度的一半；再落下，求它在第 10 次落地时，共经过多少米？第 10 次反弹多高？"
   ]
  },
  {
   "cell_type": "code",
   "execution_count": 20,
   "id": "minute-juvenile",
   "metadata": {},
   "outputs": [],
   "source": [
    "import \"fmt\"\n",
    "\n",
    "func t20() {\n",
    "    count := 10\n",
    "    h := 100.0\n",
    "    sum := h\n",
    "    h /= 2\n",
    "    for i := 1; i < count; i++ {\n",
    "        sum += 2*h\n",
    "        h /= 2\n",
    "    }\n",
    "    fmt.Printf(\"第 10 次落地时，共经过 %f 米，第 10 次反弹高 %f 米\\n\", sum, h)\n",
    "}"
   ]
  },
  {
   "cell_type": "markdown",
   "id": "democratic-radiation",
   "metadata": {},
   "source": [
    "## T21：猴子吃桃问题：猴子第一天摘下若干个桃子，当即吃了一半，还不瘾，又多吃了一个。第二天早上又将剩下的桃子吃掉一半，又多吃了一个。以后每天早上都吃了前一天剩下的一半零一个。到第 10 天早上想再吃时，见只剩下一个桃子了。求第一天共摘了多少。\n",
    "\n",
    "程序分析：采取逆向思维的方法，从后往前推断。\n",
    "\n",
    "设 x1 为前一天桃子数，设 x2 为第二天桃子数， 则：\n",
    "\n",
    "x2=x1/2-1, x1=(x2+1)*2\n",
    "\n",
    "x3=x2/2-1, x2=(x3+1)*2\n",
    "\n",
    "以此类推： x 前 =(x 后 + 1)*2"
   ]
  },
  {
   "cell_type": "code",
   "execution_count": 21,
   "id": "round-activity",
   "metadata": {},
   "outputs": [
    {
     "name": "stdout",
     "output_type": "stream",
     "text": [
      "总数为 1534\n"
     ]
    }
   ],
   "source": [
    "import \"fmt\"\n",
    "\n",
    "func t21() {\n",
    "    day, x1, x2 := 9, 0, 1\n",
    "    for day > 0 {\n",
    "        // 第一天的桃子数是第 2 天桃子数加 1 后的 2 倍\n",
    "        x1 = (x2 + 1) * 2\n",
    "        x2 = x1\n",
    "        day--\n",
    "    }\n",
    "    fmt.Printf(\"总数为 %d\\n\", x1)\n",
    "}\n",
    "t21()"
   ]
  },
  {
   "cell_type": "markdown",
   "id": "angry-failing",
   "metadata": {},
   "source": [
    "## T22：两个乒乓球队进行比赛，各出三人。甲队为 a，b，c 三人，乙队为 x，y，z 三人。已抽签决定比赛名单。有人向队员打听比赛的名单。a 说他不和 x 比，c 说他不和 x，z 比，请编程序找出三队赛手的名单。"
   ]
  },
  {
   "cell_type": "code",
   "execution_count": 22,
   "id": "optional-release",
   "metadata": {
    "scrolled": true
   },
   "outputs": [
    {
     "name": "stdout",
     "output_type": "stream",
     "text": [
      "顺序为：a--z\tb--x\tc--y\n"
     ]
    }
   ],
   "source": [
    "import \"fmt\"\n",
    "\n",
    "func t22() {\n",
    "    var i, j, k int8\n",
    "    for i = 'x'; i <= 'z'; i++ {\n",
    "        for j = 'x'; j <= 'z'; j++ {\n",
    "            if i != j {\n",
    "                for k = 'x'; k <= 'z'; k++ {\n",
    "                    if i != k && j != k {\n",
    "                        if i != 'x' && k != 'x' && k != 'z' {\n",
    "                            fmt.Printf(\"顺序为：a--%c\\tb--%c\\tc--%c\\n\", i, j, k)\n",
    "                        }\n",
    "                    }\n",
    "                }\n",
    "            }\n",
    "        }\n",
    "    }\n",
    "}\n",
    "t22()"
   ]
  },
  {
   "cell_type": "markdown",
   "id": "utility-substance",
   "metadata": {},
   "source": [
    "## T23：打印出如下图案（菱形）\n",
    "```\n",
    "   *\n",
    "  ***\n",
    " *****\n",
    "*******\n",
    " *****\n",
    "  ***\n",
    "   *\n",
    "```"
   ]
  },
  {
   "cell_type": "code",
   "execution_count": 23,
   "id": "responsible-skirt",
   "metadata": {},
   "outputs": [
    {
     "name": "stdout",
     "output_type": "stream",
     "text": [
      "   *\n",
      "  ***\n",
      " *****\n",
      "*******\n",
      " *****\n",
      "  ***\n",
      "   *\n"
     ]
    }
   ],
   "source": [
    "import \"fmt\"\n",
    "\n",
    "func t23() {\n",
    "    count := 3\n",
    "    for i := 0; i <= count; i++ {\n",
    "        for j := 0; j <= 2-i; j++ {\n",
    "            fmt.Printf(\" \")\n",
    "        }\n",
    "        for k := 0; k <= 2*i; k++ {\n",
    "            fmt.Printf(\"*\")\n",
    "        }\n",
    "        fmt.Println()\n",
    "    }\n",
    "    for i := 0; i < count; i++ {\n",
    "        for j := 0; j <= i; j++ {\n",
    "            fmt.Printf(\" \")\n",
    "        }\n",
    "        for k := 0; k <= 4-2*i; k++ {\n",
    "            fmt.Printf(\"*\")\n",
    "        }\n",
    "        fmt.Println()\n",
    "    }\n",
    "}\n",
    "t23()"
   ]
  },
  {
   "cell_type": "markdown",
   "id": "sublime-steps",
   "metadata": {},
   "source": [
    "## T24：有一分数序列：2/1，3/2，5/3，8/5，13/8，21/13...求出这个数列的前 20 项之和。"
   ]
  },
  {
   "cell_type": "code",
   "execution_count": 24,
   "id": "enormous-blink",
   "metadata": {},
   "outputs": [
    {
     "name": "stdout",
     "output_type": "stream",
     "text": [
      "前 20 项的和：32.660261\n"
     ]
    }
   ],
   "source": [
    "import \"fmt\"\n",
    "\n",
    "func t24() {\n",
    "    sum, a, b := 0.0, 2.0, 1.0\n",
    "    count := 20\n",
    "    for i := 0; i < count; i++ {\n",
    "        sum += a / b\n",
    "        a, b = a+b, a\n",
    "    }\n",
    "    fmt.Printf(\"前 20 项的和：%f\\n\", sum)\n",
    "}\n",
    "t24()"
   ]
  },
  {
   "cell_type": "markdown",
   "id": "graduate-reynolds",
   "metadata": {},
   "source": [
    "## T25：求 1+2!+3!+...+20! 的和。"
   ]
  },
  {
   "cell_type": "code",
   "execution_count": 25,
   "id": "different-jacket",
   "metadata": {},
   "outputs": [
    {
     "name": "stdout",
     "output_type": "stream",
     "text": [
      "阶乘累计和：2561327494111820313\n"
     ]
    }
   ],
   "source": [
    "import \"fmt\"\n",
    "\n",
    "func t25() {\n",
    "    var sum int64 = 0\n",
    "    cur, count := 1, 20\n",
    "    for i := 1; i <= count; i++ {\n",
    "        cur *= i\n",
    "        sum += int64(cur)\n",
    "    }\n",
    "    fmt.Printf(\"阶乘累计和：%d\\n\", sum)\n",
    "}\n",
    "t25()"
   ]
  },
  {
   "cell_type": "markdown",
   "id": "noticed-condition",
   "metadata": {},
   "source": [
    "## T26：利用递归方法求5!。"
   ]
  },
  {
   "cell_type": "code",
   "execution_count": 26,
   "id": "disabled-daughter",
   "metadata": {},
   "outputs": [
    {
     "name": "stdout",
     "output_type": "stream",
     "text": [
      "120\n"
     ]
    }
   ],
   "source": [
    "import \"fmt\"\n",
    "\n",
    "func t26_1(idx int) int {\n",
    "    if idx == 1 {\n",
    "        return idx\n",
    "    }\n",
    "    return idx * t26_1(idx-1)\n",
    "}\n",
    "\n",
    "func t26() {\n",
    "    fmt.Println(t26_1(5))\n",
    "}\n",
    "t26()"
   ]
  },
  {
   "cell_type": "markdown",
   "id": "capable-benjamin",
   "metadata": {},
   "source": [
    "## T27：利用递归函数调用方式，将所输入的5个字符，以相反顺序打印出来。"
   ]
  },
  {
   "cell_type": "code",
   "execution_count": 27,
   "id": "defined-dating",
   "metadata": {},
   "outputs": [
    {
     "name": "stdout",
     "output_type": "stream",
     "text": [
      "请输入 5 个字符：相反顺序输出结果：\u0000\u0000\u0000\u0000\u0000\n"
     ]
    }
   ],
   "source": [
    "import \"fmt\"\n",
    "\n",
    "func t27_1(n int) {\n",
    "    var next int8\n",
    "    if n <= 1 {\n",
    "        fmt.Scanf(\"%c\", &next)\n",
    "        fmt.Print(\"相反顺序输出结果：\")\n",
    "        fmt.Printf(\"%c\", next)\n",
    "    } else {\n",
    "        fmt.Scanf(\"%c\", &next)\n",
    "        t27_1(n - 1)\n",
    "        fmt.Printf(\"%c\", next)\n",
    "    }\n",
    "}\n",
    "\n",
    "func t27() {\n",
    "    i := 5\n",
    "    fmt.Printf(\"请输入 5 个字符：\")\n",
    "    t27_1(i)\n",
    "    fmt.Println()\n",
    "}\n",
    "t27()"
   ]
  },
  {
   "cell_type": "markdown",
   "id": "satellite-stranger",
   "metadata": {},
   "source": [
    "## T28：有 5 个人坐在一起，问第五个人多少岁？他说比第 4 个人大 2 岁。问第 4 个人岁数，他说比第 3 个人大 2 岁。问第三个人，又说比第 2 人大两岁。问第 2 个人，说比第一个人大两岁。最后问第一个人，他说是 10 岁。请问第五个人多大？"
   ]
  },
  {
   "cell_type": "code",
   "execution_count": 28,
   "id": "treated-vegetable",
   "metadata": {},
   "outputs": [
    {
     "name": "stdout",
     "output_type": "stream",
     "text": [
      "18\n"
     ]
    }
   ],
   "source": [
    "import \"fmt\"\n",
    "\n",
    "func t28_1(n int) int {\n",
    "    var c int\n",
    "    if n == 1 {\n",
    "        c = 10\n",
    "    } else {\n",
    "        c = t28_1(n-1) + 2\n",
    "    }\n",
    "    return c\n",
    "}\n",
    "\n",
    "func t28() {\n",
    "    fmt.Printf(\"%d\\n\", t28_1(5))\n",
    "}\n",
    "t28()"
   ]
  },
  {
   "cell_type": "markdown",
   "id": "streaming-services",
   "metadata": {},
   "source": [
    "## T29：给一个不多于 5 位的正整数，要求：一、求它是几位数，二、逆序打印出各位数字。\n",
    "\n",
    "我将其实现为任意位数的整数，不局限于 5 位"
   ]
  },
  {
   "cell_type": "code",
   "execution_count": 29,
   "id": "restricted-competition",
   "metadata": {},
   "outputs": [
    {
     "name": "stdout",
     "output_type": "stream",
     "text": [
      "输入一个数：0\n"
     ]
    }
   ],
   "source": [
    "import \"fmt\"\n",
    "\n",
    "func t29_1(n int) {\n",
    "    if n == 0 {\n",
    "        return\n",
    "    } else {\n",
    "        lower := n % 10\n",
    "        fmt.Print(lower)\n",
    "        t29_1(n / 10)\n",
    "    }\n",
    "}\n",
    "\n",
    "func t29() {\n",
    "    n := 0\n",
    "    fmt.Print(\"输入一个数：\")\n",
    "    fmt.Scanf(\"%d\", &n)\n",
    "    if n == 0 {\n",
    "        fmt.Print(n)\n",
    "    } else {\n",
    "        t29_1(n)\n",
    "\n",
    "    }\n",
    "    fmt.Println()\n",
    "}\n",
    "t29()"
   ]
  },
  {
   "cell_type": "markdown",
   "id": "noble-andorra",
   "metadata": {},
   "source": [
    "## T30：一个 5 位数，判断它是不是回文数。即 12321 是回文数，个位与万位相同，十位与千位相同。"
   ]
  },
  {
   "cell_type": "code",
   "execution_count": 30,
   "id": "studied-superior",
   "metadata": {},
   "outputs": [
    {
     "name": "stdout",
     "output_type": "stream",
     "text": [
      "输入一个数：回文数\n"
     ]
    }
   ],
   "source": [
    "import \"fmt\"\n",
    "\n",
    "func t30() {\n",
    "    n := 0\n",
    "    var list []int\n",
    "    fmt.Print(\"输入一个数：\")\n",
    "    fmt.Scanf(\"%d\", &n)\n",
    "    if n > 10 {\n",
    "        for n > 0 {\n",
    "            lower := n % 10\n",
    "            n /= 10\n",
    "            list = append(list, lower)\n",
    "        }\n",
    "        for i := 0; i < len(list)/2; i++ {\n",
    "            if list[i] != list[len(list)-1-i] {\n",
    "                fmt.Println(\"不是回文数\")\n",
    "                return\n",
    "            }\n",
    "        }\n",
    "    }\n",
    "    fmt.Println(\"回文数\")\n",
    "}\n",
    "t30()"
   ]
  },
  {
   "cell_type": "markdown",
   "id": "inner-science",
   "metadata": {},
   "source": [
    "## T31：请输入星期几的第一个字母来判断一下是星期几，如果第一个字母一样，则继续判断第二个字母。"
   ]
  },
  {
   "cell_type": "code",
   "execution_count": 31,
   "id": "marked-robinson",
   "metadata": {},
   "outputs": [
    {
     "name": "stdout",
     "output_type": "stream",
     "text": [
      "请输入第一个字母：error\n"
     ]
    }
   ],
   "source": [
    "import \"fmt\"\n",
    "\n",
    "func t31() {\n",
    "    var ch int8\n",
    "    fmt.Print(\"请输入第一个字母：\")\n",
    "    fmt.Scanf(\"%c \", &ch)\n",
    "    switch ch {\n",
    "    case 'm':\n",
    "        fmt.Println(\"monday\")\n",
    "    case 'w':\n",
    "        fmt.Println(\"wednesday\")\n",
    "    case 'f':\n",
    "        fmt.Println(\"friday\")\n",
    "    case 't':\n",
    "        fmt.Print(\"请输入下一个字母：\")\n",
    "        fmt.Scanf(\"%c \", &ch)\n",
    "        if ch == 'u' {\n",
    "            fmt.Println(\"tuesday\")\n",
    "        } else if ch == 'h' {\n",
    "            fmt.Println(\"thursday\")\n",
    "        }\n",
    "    case 's':\n",
    "        fmt.Print(\"请输入下一个字母：\")\n",
    "        fmt.Scanf(\"%c \", &ch)\n",
    "        if ch == 'a' {\n",
    "            fmt.Println(\"saturday\")\n",
    "        } else if ch == 'u' {\n",
    "            fmt.Println(\"sunday\")\n",
    "        }\n",
    "    default:\n",
    "        fmt.Println(\"error\")\n",
    "    }\n",
    "}\n",
    "t31()"
   ]
  },
  {
   "cell_type": "markdown",
   "id": "english-module",
   "metadata": {},
   "source": [
    "## T32：删除一个字符串中的指定字母，如：字符串 \"aca\"，删除其中的 a 字母。"
   ]
  },
  {
   "cell_type": "code",
   "execution_count": 32,
   "id": "ceramic-damages",
   "metadata": {
    "scrolled": true
   },
   "outputs": [
    {
     "name": "stdout",
     "output_type": "stream",
     "text": [
      "输入字符串：输入删除的字符：\n"
     ]
    }
   ],
   "source": [
    "import \"fmt\"\n",
    "\n",
    "func t32() {\n",
    "    var str string\n",
    "    var ch byte\n",
    "    var ret []byte\n",
    "    fmt.Print(\"输入字符串：\")\n",
    "    fmt.Scanf(\"%s \", &str)\n",
    "    fmt.Print(\"输入删除的字符：\")\n",
    "    fmt.Scanf(\"%c \", &ch)\n",
    "    for i := 0; i < len(str); i++ {\n",
    "        if str[i] != ch {\n",
    "            ret = append(ret, str[i])\n",
    "        }\n",
    "    }\n",
    "    fmt.Println(string(ret))\n",
    "}\n",
    "t32()"
   ]
  },
  {
   "cell_type": "markdown",
   "id": "activated-stick",
   "metadata": {},
   "source": [
    "## T33：判断一个数字是否为质数"
   ]
  },
  {
   "cell_type": "code",
   "execution_count": 33,
   "id": "primary-distributor",
   "metadata": {},
   "outputs": [],
   "source": [
    "import \"fmt\"\n",
    "\n",
    "func t33() {\n",
    "    num := 0\n",
    "    fmt.Print(\"输入一个数：\")\n",
    "    fmt.Scanf(\"%d \", &num)\n",
    "    fmt.Printf(\"如果%d是质数则会再次输出，否则不会输出。\\n\", num)\n",
    "    t12_1(num, num+1)\n",
    "}"
   ]
  },
  {
   "cell_type": "markdown",
   "id": "reserved-organization",
   "metadata": {},
   "source": [
    "## T34：练习函数调用"
   ]
  },
  {
   "cell_type": "code",
   "execution_count": 34,
   "id": "played-quarterly",
   "metadata": {},
   "outputs": [
    {
     "name": "stdout",
     "output_type": "stream",
     "text": [
      " t34 call me!\n"
     ]
    }
   ],
   "source": [
    "import \"fmt\"\n",
    "\n",
    "func t34_1(parent string, level int) {\n",
    "    for level > 0 {\n",
    "        fmt.Print(\" \")\n",
    "        level--\n",
    "    }\n",
    "    fmt.Printf(\"%s call me!\\n\", parent)\n",
    "}\n",
    "\n",
    "func t34() {\n",
    "    t34_1(\"t34\", 1)\n",
    "}\n",
    "t34()"
   ]
  },
  {
   "cell_type": "markdown",
   "id": "severe-negotiation",
   "metadata": {},
   "source": [
    "## T35：字符串反转，如将字符串 \"www.runoob.com\" 反转为 \"moc.boonur.www\"。"
   ]
  },
  {
   "cell_type": "code",
   "execution_count": 35,
   "id": "casual-viking",
   "metadata": {},
   "outputs": [
    {
     "name": "stdout",
     "output_type": "stream",
     "text": [
      "输入字符串：\n"
     ]
    }
   ],
   "source": [
    "import \"fmt\"\n",
    "\n",
    "func t35() {\n",
    "    var str string\n",
    "    fmt.Print(\"输入字符串：\")\n",
    "    fmt.Scanf(\"%s \", &str)\n",
    "    ret := []byte(str)\n",
    "    n := len(ret)\n",
    "    for i := 0; i < n/2; i++ {\n",
    "        ret[i], ret[n-i-1] = ret[n-i-1], ret[i]\n",
    "    }\n",
    "    fmt.Println(string(ret))\n",
    "}\n",
    "t35()"
   ]
  },
  {
   "cell_type": "markdown",
   "id": "bronze-classic",
   "metadata": {},
   "source": [
    "## T36：求 100 之内的素数"
   ]
  },
  {
   "cell_type": "code",
   "execution_count": 36,
   "id": "loving-waterproof",
   "metadata": {},
   "outputs": [
    {
     "name": "stdout",
     "output_type": "stream",
     "text": [
      "2 3 5 7 11 13 17 19 23 29 31 37 41 43 47 53 59 61 67 71 73 79 83 89 97 "
     ]
    }
   ],
   "source": [
    "func t36() {\n",
    "    t12_1(2, 101)\n",
    "}\n",
    "t36()"
   ]
  },
  {
   "cell_type": "markdown",
   "id": "clean-grenada",
   "metadata": {},
   "source": [
    "## T37：对 10 个数进行排序"
   ]
  },
  {
   "cell_type": "code",
   "execution_count": 37,
   "id": "stock-yorkshire",
   "metadata": {},
   "outputs": [
    {
     "name": "stdout",
     "output_type": "stream",
     "text": [
      "After sorted:  [1 2 3 4 5 6 7 8 9]\n"
     ]
    }
   ],
   "source": [
    "import (\n",
    "    \"fmt\"\n",
    "    \"sort\"\n",
    ")\n",
    "\n",
    "type IntSlice []int\n",
    "\n",
    "func (s IntSlice) Len() int           { return len(s) }\n",
    "func (s IntSlice) Swap(i, j int)      { s[i], s[j] = s[j], s[i] }\n",
    "func (s IntSlice) Less(i, j int) bool { return s[i] < s[j] }\n",
    "\n",
    "func t37() {\n",
    "    a := []int{4, 3, 2, 1, 5, 9, 8, 7, 6}\n",
    "    sort.Sort(IntSlice(a))\n",
    "    fmt.Println(\"After sorted: \", a)\n",
    "}\n",
    "t37()"
   ]
  },
  {
   "cell_type": "markdown",
   "id": "minor-strain",
   "metadata": {},
   "source": [
    "## T38：求一个 3 * 3 矩阵对角线元素之和"
   ]
  },
  {
   "cell_type": "code",
   "execution_count": 38,
   "id": "bronze-negative",
   "metadata": {},
   "outputs": [
    {
     "name": "stdout",
     "output_type": "stream",
     "text": [
      "请输入矩阵(3*3)：\n",
      "对角线之和为：0\n"
     ]
    }
   ],
   "source": [
    "import \"fmt\"\n",
    "\n",
    "func t38() {\n",
    "    var m [3][3]int\n",
    "    fmt.Println(\"请输入矩阵(3*3)：\")\n",
    "    for i := 0; i < 3; i++ {\n",
    "        for j := 0; j < 3; j++ {\n",
    "            fmt.Scanf(\"%d\", &m[i][j])\n",
    "        }\n",
    "    }\n",
    "    sum := 0\n",
    "    for i := 0; i < 3; i++ {\n",
    "        sum += m[i][i]\n",
    "    }\n",
    "    fmt.Printf(\"对角线之和为：%d\\n\", sum)\n",
    "}\n",
    "t38()"
   ]
  },
  {
   "cell_type": "markdown",
   "id": "interesting-checklist",
   "metadata": {},
   "source": [
    "## T39：有一个已经排好序的数组。现输入一个数，要求按原来的规律将它插入数组中。"
   ]
  },
  {
   "cell_type": "code",
   "execution_count": 39,
   "id": "monthly-connecticut",
   "metadata": {},
   "outputs": [
    {
     "name": "stdout",
     "output_type": "stream",
     "text": [
      "输入数字的个数：输入一些数：After sorted:  []\n",
      "输入插入的数："
     ]
    },
    {
     "ename": "ERROR",
     "evalue": "reflect: slice index out of range",
     "output_type": "error",
     "traceback": [
      "reflect: slice index out of range"
     ]
    }
   ],
   "source": [
    "import (\n",
    "    \"fmt\"\n",
    "    \"sort\"\n",
    ")\n",
    "\n",
    "func t39() {\n",
    "    var n, tmp int\n",
    "    var a []int\n",
    "    fmt.Print(\"输入数字的个数：\")\n",
    "    fmt.Scanf(\"%d \", &n)\n",
    "    fmt.Printf(\"输入一些数：\")\n",
    "    for i := 0; i < n; i++ {\n",
    "        fmt.Scanf(\"%d\", &tmp)\n",
    "        a = append(a, tmp)\n",
    "    }\n",
    "    sort.Sort(IntSlice(a))\n",
    "    fmt.Println(\"After sorted: \", a)\n",
    "    fmt.Print(\"输入插入的数：\")\n",
    "    fmt.Scanf(\"%d \", &n)\n",
    "    mid := -1\n",
    "    if n >= a[len(a)-1] {\n",
    "        a = append(a, n)\n",
    "    } else if n <= a[0] {\n",
    "        a = append([]int{n}, a...)\n",
    "    } else {\n",
    "        i, j := 0, len(a)\n",
    "        for i <= j {\n",
    "            mid = i + (j-i)/2\n",
    "            fmt.Println(i, mid, j)\n",
    "            if a[mid] <= n {\n",
    "                i = mid + 1\n",
    "            } else {\n",
    "                j = mid - 1\n",
    "            }\n",
    "        }\n",
    "        if a[mid] == n {\n",
    "            mid++\n",
    "        }\n",
    "        a = append(a, n)\n",
    "        for i := len(a) - 1; i > mid; i-- {\n",
    "            a[i] = a[i-1]\n",
    "        }\n",
    "        a[mid] = n\n",
    "    }\n",
    "    fmt.Println(a)\n",
    "}\n",
    "t39()"
   ]
  },
  {
   "cell_type": "markdown",
   "id": "disciplinary-monte",
   "metadata": {},
   "source": [
    "## T40：将一个数组逆序输出"
   ]
  },
  {
   "cell_type": "code",
   "execution_count": 40,
   "id": "earned-enemy",
   "metadata": {},
   "outputs": [
    {
     "name": "stdout",
     "output_type": "stream",
     "text": [
      "输入数字的个数：输入一些数："
     ]
    }
   ],
   "source": [
    "import \"fmt\"\n",
    "\n",
    "func t40() {\n",
    "    var n, tmp int\n",
    "    var a []int\n",
    "    fmt.Print(\"输入数字的个数：\")\n",
    "    fmt.Scanf(\"%d \", &n)\n",
    "    fmt.Printf(\"输入一些数：\")\n",
    "    for i := 0; i < n; i++ {\n",
    "        fmt.Scanf(\"%d\", &tmp)\n",
    "        a = append(a, tmp)\n",
    "    }\n",
    "    for i := n - 1; i >= 0; i-- {\n",
    "        fmt.Print(a[i])\n",
    "    }\n",
    "}\n",
    "t40()"
   ]
  },
  {
   "cell_type": "markdown",
   "id": "committed-sunrise",
   "metadata": {},
   "source": [
    "## T41：学习 static 定义静态变量的用法。"
   ]
  },
  {
   "cell_type": "markdown",
   "id": "subjective-jacket",
   "metadata": {},
   "source": [
    "## T42：学习使用 auto 定义变量的用法。\n",
    "\n",
    "C 语言中提供了存储说明符 auto、register、extern、static 说明的四种存储类别。"
   ]
  },
  {
   "cell_type": "markdown",
   "id": "patient-democracy",
   "metadata": {},
   "source": [
    "## T43：学习使用 static 的另一用法。"
   ]
  },
  {
   "cell_type": "markdown",
   "id": "studied-viewer",
   "metadata": {},
   "source": [
    "## T44：学习使用如何调用外部函数。"
   ]
  },
  {
   "cell_type": "markdown",
   "id": "acknowledged-convention",
   "metadata": {},
   "source": [
    "## T45：学习使用 register 定义变量的方法。"
   ]
  },
  {
   "cell_type": "markdown",
   "id": "virgin-afternoon",
   "metadata": {},
   "source": [
    "## T46：宏 #define 命令练习。"
   ]
  },
  {
   "cell_type": "markdown",
   "id": "speaking-summer",
   "metadata": {},
   "source": [
    "## T47：宏 #define 命令练习 2。"
   ]
  },
  {
   "cell_type": "markdown",
   "id": "random-consensus",
   "metadata": {},
   "source": [
    "## T48：宏 #define 命令练习 3。"
   ]
  },
  {
   "cell_type": "markdown",
   "id": "desirable-armenia",
   "metadata": {},
   "source": [
    "## T49：#if #ifdef 和 #ifndef 的综合应用。"
   ]
  },
  {
   "cell_type": "markdown",
   "id": "accepting-celtic",
   "metadata": {},
   "source": [
    "## T50：#include 的应用练习。"
   ]
  },
  {
   "cell_type": "markdown",
   "id": "multiple-yacht",
   "metadata": {},
   "source": [
    "## T51：学习使用按位与 &。"
   ]
  },
  {
   "cell_type": "code",
   "execution_count": 41,
   "id": "relative-gamma",
   "metadata": {},
   "outputs": [
    {
     "name": "stdout",
     "output_type": "stream",
     "text": [
      "a & b:  0\n"
     ]
    }
   ],
   "source": [
    "import \"fmt\"\n",
    "\n",
    "func t51() {\n",
    "    a, b := 4, 1\n",
    "    fmt.Println(\"a & b: \", a&b)\n",
    "}\n",
    "t51()"
   ]
  },
  {
   "cell_type": "markdown",
   "id": "integral-gauge",
   "metadata": {},
   "source": [
    "## T52：学习使用按位或 |。"
   ]
  },
  {
   "cell_type": "code",
   "execution_count": 42,
   "id": "liked-detective",
   "metadata": {
    "scrolled": true
   },
   "outputs": [
    {
     "name": "stdout",
     "output_type": "stream",
     "text": [
      "a & b:  5\n"
     ]
    }
   ],
   "source": [
    "import \"fmt\"\n",
    "\n",
    "func t52() {\n",
    "    a, b := 4, 1\n",
    "    fmt.Println(\"a & b: \", a|b)\n",
    "}\n",
    "t52()"
   ]
  },
  {
   "cell_type": "markdown",
   "id": "returning-offense",
   "metadata": {},
   "source": [
    "## T53：学习使用按位异或 ^。"
   ]
  },
  {
   "cell_type": "code",
   "execution_count": 43,
   "id": "southeast-aluminum",
   "metadata": {},
   "outputs": [
    {
     "name": "stdout",
     "output_type": "stream",
     "text": [
      "a & b:  5\n"
     ]
    }
   ],
   "source": [
    "import \"fmt\"\n",
    "\n",
    "func t53() {\n",
    "    a, b := 4, 1\n",
    "    fmt.Println(\"a & b: \", a^b)\n",
    "}\n",
    "t53()"
   ]
  },
  {
   "cell_type": "markdown",
   "id": "cardiac-scheme",
   "metadata": {},
   "source": [
    "## T54：取一个整数 a 从右端开始的 4～7 位"
   ]
  },
  {
   "cell_type": "code",
   "execution_count": 44,
   "id": "parliamentary-latvia",
   "metadata": {},
   "outputs": [
    {
     "name": "stdout",
     "output_type": "stream",
     "text": [
      "输入一个数：0\n"
     ]
    }
   ],
   "source": [
    "import \"fmt\"\n",
    "\n",
    "func t54() {\n",
    "    var a int\n",
    "    fmt.Print(\"输入一个数：\")\n",
    "    fmt.Scanf(\"%d \", &a)\n",
    "    a >>= 4\n",
    "    a &= ^(^0<<4)\n",
    "    fmt.Println(a)\n",
    "}\n",
    "t54()"
   ]
  },
  {
   "cell_type": "markdown",
   "id": "joined-intellectual",
   "metadata": {},
   "source": [
    "## T55：学习使用按位取反 ~\n",
    "\n",
    "注意，在 golang 中，按位取反是 ^ 而非 ~，所以 ^ 既是二元运算符又是一元运算符"
   ]
  },
  {
   "cell_type": "code",
   "execution_count": 45,
   "id": "moderate-medicaid",
   "metadata": {},
   "outputs": [
    {
     "name": "stdout",
     "output_type": "stream",
     "text": [
      "8 -9\n"
     ]
    }
   ],
   "source": [
    "import \"fmt\"\n",
    "\n",
    "func t55() {\n",
    "    a := 8\n",
    "    fmt.Println(a, ^a)\n",
    "}\n",
    "t55()"
   ]
  },
  {
   "cell_type": "markdown",
   "id": "grave-winning",
   "metadata": {},
   "source": [
    "## T56：画图，学用 circle 画圆形"
   ]
  },
  {
   "cell_type": "markdown",
   "id": "acute-database",
   "metadata": {},
   "source": [
    "## T57：画图，学用 line 画直线"
   ]
  },
  {
   "cell_type": "markdown",
   "id": "narrative-collect",
   "metadata": {},
   "source": [
    "## T58：学用 rectangle 画方形"
   ]
  },
  {
   "cell_type": "markdown",
   "id": "assured-diamond",
   "metadata": {},
   "source": [
    "## T59：画图，综合例子"
   ]
  },
  {
   "cell_type": "markdown",
   "id": "selected-cream",
   "metadata": {},
   "source": [
    "## T60：画图，综合例子 2"
   ]
  },
  {
   "cell_type": "markdown",
   "id": "eleven-australian",
   "metadata": {},
   "source": [
    "## T61：打印出杨辉三角形（要求打印出 10 行）。"
   ]
  },
  {
   "cell_type": "code",
   "execution_count": 46,
   "id": "temporal-forty",
   "metadata": {
    "scrolled": true
   },
   "outputs": [
    {
     "name": "stdout",
     "output_type": "stream",
     "text": [
      "[1]\n",
      "[1 1]\n",
      "[1 2 1]\n",
      "[1 3 3 1]\n",
      "[1 4 6 4 1]\n",
      "[1 5 10 10 5 1]\n",
      "[1 6 15 20 15 6 1]\n",
      "[1 7 21 35 35 21 7 1]\n",
      "[1 8 28 56 70 56 28 8 1]\n",
      "[1 9 36 84 126 126 84 36 9 1]\n"
     ]
    }
   ],
   "source": [
    "import \"fmt\"\n",
    "\n",
    "func t61() {\n",
    "    count := 10\n",
    "    var arr [][]int\n",
    "    for i := 0; i < count; i++ {\n",
    "        tmp := []int{1}\n",
    "        for j := 1; j <= i; j++ {\n",
    "            if j == i {\n",
    "                tmp = append(tmp, 1)\n",
    "            } else {\n",
    "                tmp = append(tmp, arr[i-1][j]+arr[i-1][j-1])\n",
    "\n",
    "            }\n",
    "        }\n",
    "        arr = append(arr, tmp)\n",
    "    }\n",
    "    for _, tmp := range arr {\n",
    "        fmt.Println(tmp)\n",
    "\n",
    "    }\n",
    "}\n",
    "t61()"
   ]
  },
  {
   "cell_type": "markdown",
   "id": "absent-female",
   "metadata": {},
   "source": [
    "## T62：学习 putpixel 画点，（在 TC 中实现）"
   ]
  },
  {
   "cell_type": "markdown",
   "id": "terminal-muslim",
   "metadata": {},
   "source": [
    "## T63：画椭圆 ellipse（在 TC 中实现）"
   ]
  },
  {
   "cell_type": "markdown",
   "id": "relative-yukon",
   "metadata": {},
   "source": [
    "## T64：利用 ellipse and rectangle 画图（在 TC 中实现）"
   ]
  },
  {
   "cell_type": "markdown",
   "id": "standard-assets",
   "metadata": {},
   "source": [
    "## T65：一个最优美的图案（在TC中实现）"
   ]
  },
  {
   "cell_type": "markdown",
   "id": "patient-paraguay",
   "metadata": {},
   "source": [
    "## T66：输入 3 个数 a，b，c，按大小顺序输出"
   ]
  },
  {
   "cell_type": "code",
   "execution_count": 47,
   "id": "swedish-assault",
   "metadata": {},
   "outputs": [
    {
     "name": "stdout",
     "output_type": "stream",
     "text": [
      "输入 a，b，c：0 0 0\n"
     ]
    }
   ],
   "source": [
    "import \"fmt\"\n",
    "\n",
    "func t66() {\n",
    "    var a, b, c int\n",
    "    fmt.Print(\"输入 a，b，c：\")\n",
    "    fmt.Scanf(\"%d %d %d \", &a, &b, &c)\n",
    "    if a > b {\n",
    "        a, b = b, a\n",
    "    }\n",
    "    if a > c {\n",
    "        a, c = c, a\n",
    "    }\n",
    "    if b > c {\n",
    "        b, c = c, b\n",
    "    }\n",
    "    fmt.Println(a, b, c)\n",
    "}\n",
    "t66()"
   ]
  },
  {
   "cell_type": "markdown",
   "id": "protecting-significance",
   "metadata": {},
   "source": [
    "## T67：输入数组，最大的与第一个元素交换，最小的与最后一个元素交换，输出数组\n",
    "\n",
    "下面我的实现有问题，对于最大和最小的位置正好是最后和第一，那么交换之后相当于没变（1，2，3，4，5），所以应该遍历两次稳妥，懒得改了"
   ]
  },
  {
   "cell_type": "code",
   "execution_count": 48,
   "id": "forced-employer",
   "metadata": {},
   "outputs": [
    {
     "name": "stdout",
     "output_type": "stream",
     "text": [
      "输入数字的个数：输入一些数：-1 -1\n"
     ]
    },
    {
     "ename": "ERROR",
     "evalue": "reflect: slice index out of range",
     "output_type": "error",
     "traceback": [
      "reflect: slice index out of range"
     ]
    }
   ],
   "source": [
    "import \"fmt\"\n",
    "\n",
    "func t67() {\n",
    "    var n, tmp int\n",
    "    max := math.MinInt32\n",
    "    maxIdx := -1\n",
    "    min := math.MaxInt32\n",
    "    minIdx := -1\n",
    "    var a []int\n",
    "    fmt.Print(\"输入数字的个数：\")\n",
    "    fmt.Scanf(\"%d \", &n)\n",
    "    fmt.Printf(\"输入一些数：\")\n",
    "    for i := 0; i < n; i++ {\n",
    "        fmt.Scanf(\"%d\", &tmp)\n",
    "        if tmp > max {\n",
    "            max = tmp\n",
    "            maxIdx = i\n",
    "        }\n",
    "        if tmp < min {\n",
    "            min = tmp\n",
    "            minIdx = i\n",
    "        }\n",
    "        a = append(a, tmp)\n",
    "    }\n",
    "    fmt.Println(maxIdx, minIdx)\n",
    "    a[0], a[maxIdx] = a[maxIdx], a[0]\n",
    "    a[n-1], a[minIdx] = a[minIdx], a[n-1]\n",
    "    fmt.Println(a)\n",
    "}\n",
    "t67()"
   ]
  },
  {
   "cell_type": "markdown",
   "id": "sought-examination",
   "metadata": {},
   "source": [
    "## T68：有 n 个整数，使其前面各数顺序向后移 m 个位置，最后m个数变成最前面的 m 个数"
   ]
  },
  {
   "cell_type": "code",
   "execution_count": 49,
   "id": "delayed-dominant",
   "metadata": {},
   "outputs": [
    {
     "name": "stdout",
     "output_type": "stream",
     "text": [
      "输入 n 和 m："
     ]
    },
    {
     "ename": "ERROR",
     "evalue": "输入条件错误（n > m）",
     "output_type": "error",
     "traceback": [
      "输入条件错误（n > m）"
     ]
    }
   ],
   "source": [
    "import \"fmt\"\n",
    "\n",
    "func t68() {\n",
    "    var n, m, tmp int\n",
    "    fmt.Print(\"输入 n 和 m：\")\n",
    "    fmt.Scanf(\"%d %d \", &n, &m)\n",
    "    if n <= m {\n",
    "        panic(\"输入条件错误（n > m）\")\n",
    "    }\n",
    "    a := make([]int, n)\n",
    "    b := make([]int, m)\n",
    "    c := make([]int, n-m)\n",
    "    fmt.Printf(\"输入一些数：\")\n",
    "    for i := 0; i < n; i++ {\n",
    "        fmt.Scanf(\"%d\", &tmp)\n",
    "        a[i] = tmp\n",
    "    }\n",
    "    for i := 0; i < n-m; i++ {\n",
    "        c[i] = a[i]\n",
    "    }\n",
    "    for i := 0; i < m; i++ {\n",
    "        b[i] = a[n-m+i]\n",
    "    }\n",
    "    for i := 0; i < m; i++ {\n",
    "        a[i] = b[i]\n",
    "    }\n",
    "    for i := m; i < n; i++ {\n",
    "        a[i] = c[i-m]\n",
    "    }\n",
    "    fmt.Println(a)\n",
    "}\n",
    "t68()"
   ]
  },
  {
   "cell_type": "markdown",
   "id": "fatty-holmes",
   "metadata": {},
   "source": [
    "## T69：有 n 个人围成一圈，顺序排号。从第一个人开始报数（从 1 到 3 报数），凡报到 3 的人退出圈子，问最后留下的是原来第几号的那位"
   ]
  },
  {
   "cell_type": "code",
   "execution_count": 50,
   "id": "amino-polyester",
   "metadata": {},
   "outputs": [
    {
     "name": "stdout",
     "output_type": "stream",
     "text": [
      "输入 n："
     ]
    }
   ],
   "source": [
    "import \"fmt\"\n",
    "\n",
    "func t69() {\n",
    "    var n int\n",
    "    fmt.Print(\"输入 n：\")\n",
    "    fmt.Scanf(\"%d \", &n)\n",
    "    a := make([]int, n)\n",
    "    for i := 0; i < n; i++ {\n",
    "        a[i] = 1\n",
    "    }\n",
    "    // 退出人数、循环下标、小循环计数\n",
    "    m, i, k := 0, 0, 0\n",
    "    for m < n-1 {\n",
    "        if a[i] != 0 {\n",
    "            k++\n",
    "        }\n",
    "        if k == 3 {\n",
    "            k, a[i] = 0, 0\n",
    "            m++\n",
    "        }\n",
    "        i++\n",
    "        if i == n {\n",
    "            i = 0\n",
    "        }\n",
    "    }\n",
    "    for i := 0; i < n; i++ {\n",
    "        if a[i] != 0 {\n",
    "            fmt.Println(i + 1)\n",
    "            break\n",
    "        }\n",
    "    }\n",
    "}\n",
    "t69()"
   ]
  },
  {
   "cell_type": "markdown",
   "id": "suffering-montreal",
   "metadata": {},
   "source": [
    "## T70：写一个函数，求一个字符串的长度，在 main 函数中输入字符串，并输出其长度"
   ]
  },
  {
   "cell_type": "code",
   "execution_count": 51,
   "id": "conventional-channels",
   "metadata": {},
   "outputs": [
    {
     "name": "stdout",
     "output_type": "stream",
     "text": [
      "输入一个字符串： 0\n"
     ]
    }
   ],
   "source": [
    "import \"fmt\"\n",
    "\n",
    "func t70() {\n",
    "    var str string\n",
    "    fmt.Print(\"输入一个字符串：\")\n",
    "    fmt.Scanf(\"%s \", &str)\n",
    "    fmt.Println(str, len(str))\n",
    "}\n",
    "t70()"
   ]
  }
 ],
 "metadata": {
  "kernelspec": {
   "display_name": "Go",
   "language": "go",
   "name": "gophernotes"
  },
  "language_info": {
   "codemirror_mode": "",
   "file_extension": ".go",
   "mimetype": "",
   "name": "go",
   "nbconvert_exporter": "",
   "pygments_lexer": "",
   "version": "go1.13.8"
  },
  "toc": {
   "base_numbering": 1,
   "nav_menu": {},
   "number_sections": true,
   "sideBar": true,
   "skip_h1_title": false,
   "title_cell": "Table of Contents",
   "title_sidebar": "Contents",
   "toc_cell": false,
   "toc_position": {
    "height": "calc(100% - 180px)",
    "left": "10px",
    "top": "150px",
    "width": "283px"
   },
   "toc_section_display": true,
   "toc_window_display": true
  }
 },
 "nbformat": 4,
 "nbformat_minor": 5
}
