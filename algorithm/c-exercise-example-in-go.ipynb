{
 "cells": [
  {
   "cell_type": "markdown",
   "id": "medium-voltage",
   "metadata": {},
   "source": [
    "> @Date    : 2021-05-13 19:34:00\n",
    ">\n",
    "> @Author  : Lewis Tian (taseikyo@gmail.com)\n",
    ">\n",
    "> @Link    : github.com/taseikyo\n",
    "\n",
    "# C 语言经典 100 例\n",
    "\n",
    "菜鸟教程上有 C 语言的代码：https://www.runoob.com/cprogramming/c-100-examples.html\n",
    "\n",
    "为了练习 Go 语言，用 Go 实现一遍 :3\n",
    "\n",
    "## T1：有1、2、3、4个数字，能组成多少个互不相同且无重复数字的三位数？都是多少？"
   ]
  },
  {
   "cell_type": "code",
   "execution_count": 1,
   "id": "fallen-genre",
   "metadata": {},
   "outputs": [
    {
     "name": "stdout",
     "output_type": "stream",
     "text": [
      "1 2 3 4\n",
      "1 2 4 3\n",
      "1 3 2 4\n",
      "1 3 4 2\n",
      "1 4 2 3\n",
      "1 4 3 2\n",
      "2 1 3 4\n",
      "2 1 4 3\n",
      "2 3 1 4\n",
      "2 3 4 1\n",
      "2 4 1 3\n",
      "2 4 3 1\n",
      "3 1 2 4\n",
      "3 1 4 2\n",
      "3 2 1 4\n",
      "3 2 4 1\n",
      "3 4 1 2\n",
      "3 4 2 1\n",
      "4 1 2 3\n",
      "4 1 3 2\n",
      "4 2 1 3\n",
      "4 2 3 1\n",
      "4 3 1 2\n",
      "4 3 2 1\n"
     ]
    }
   ],
   "source": [
    "import \"fmt\"\n",
    "\n",
    "func t1() {\n",
    "    sum := 1+2+3+4\n",
    "    for i := 1;i < 5;i++ {\n",
    "        for j := 1;j < 5;j++ {\n",
    "            for k := 1;k < 5;k++ {\n",
    "                if i != j && j != k && i != k {\n",
    "                    fmt.Println(i, j, k, sum-i-j-k)\n",
    "                }\n",
    "            }\n",
    "        }\n",
    "    }\n",
    "}\n",
    "\n",
    "t1()"
   ]
  },
  {
   "cell_type": "markdown",
   "id": "thrown-attachment",
   "metadata": {},
   "source": [
    "## T2：企业发放的奖金根据利润提成。\n",
    "\n",
    "- 利润低于或等于 10 万元时，奖金可提 10%；\n",
    "- 利润高于 10 万元，低于 20 万元时，低于 10 万元的部分按 10% 提成，高于 10 万元的部分，可提成 7.5%；\n",
    "- 20 万到 40 万之间时，高于 20 万元的部分，可提成 5%；\n",
    "- 40 万到 60 万之间时高于 40 万元的部分，可提成 3%；\n",
    "- 60 万到 100 万之间时，高于 60 万元的部分，可提成 1.5%；\n",
    "- 高于 100 万元时，超过 100 万元的部分按 1% 提成。\n",
    "\n",
    "从键盘输入当月利润，求应发放奖金总数？"
   ]
  },
  {
   "cell_type": "code",
   "execution_count": 2,
   "id": "ambient-value",
   "metadata": {},
   "outputs": [
    {
     "name": "stdout",
     "output_type": "stream",
     "text": [
      "11500\n"
     ]
    }
   ],
   "source": [
    "import \"fmt\"\n",
    "\n",
    "func t2() {\n",
    "    money := 12.0 * 10000\n",
    "\n",
    "    var bonus float64\n",
    "    bonus1 := 100000 * 0.1\n",
    "    bonus2 := bonus1 + 100000*0.075\n",
    "    bonus4 := bonus2 + 200000*0.05\n",
    "    bonus6 := bonus4 + 200000*0.03\n",
    "    bonus10 := bonus6 + 400000*0.015\n",
    "    if money <= 100000 {\n",
    "        bonus = money * 0.1\n",
    "    } else if money <= 200000 {\n",
    "        bonus = bonus1 + (money-100000)*0.075\n",
    "    } else if money <= 400000 {\n",
    "        bonus = bonus2 + (money-200000)*0.05\n",
    "    } else if money <= 600000 {\n",
    "        bonus = bonus4 + (money-400000)*0.03\n",
    "    } else if money <= 1000000 {\n",
    "        bonus = bonus6 + (money-600000)*0.015\n",
    "    } else {\n",
    "        bonus = bonus10 + (money-1000000)*0.01\n",
    "    }\n",
    "    fmt.Println(bonus)\n",
    "}\n",
    "\n",
    "t2()"
   ]
  },
  {
   "cell_type": "markdown",
   "id": "electronic-division",
   "metadata": {},
   "source": [
    "## T3：一个整数，它加上 100 后是一个完全平方数，再加上 168 又是一个完全平方数，请问该数是多少？\n",
    "\n",
    "程序分析：\n",
    "\n",
    "假设该数为 x。\n",
    "\n",
    "1. 则：x + 100 = n^2, x + 100 + 168 = m^2\n",
    "1. 计算等式：m^2 - n^2 = (m + n)(m - n) = 168\n",
    "1. 设置： m + n = i，m - n = j，i * j =168，i 和 j 至少一个是偶数\n",
    "1. 可得： m = (i + j) / 2， n = (i - j) / 2，i 和 j 要么都是偶数，要么都是奇数。\n",
    "1. 从 3 和 4 推导可知道，i 与 j 均是大于等于 2 的偶数。\n",
    "1. 由于 i * j = 168， j>=2，则 1 < i < 168 / 2 + 1。\n",
    "1. 接下来将 i 的所有数字循环计算即可。"
   ]
  },
  {
   "cell_type": "code",
   "execution_count": 3,
   "id": "eleven-stick",
   "metadata": {},
   "outputs": [
    {
     "name": "stdout",
     "output_type": "stream",
     "text": [
      "-99 + 100 = 1 * 1\n",
      "-99 + 268 = 13 * 13\n",
      "21 + 100 = 11 * 11\n",
      "21 + 268 = 17 * 17\n",
      "261 + 100 = 19 * 19\n",
      "261 + 268 = 23 * 23\n",
      "1581 + 100 = 41 * 41\n",
      "1581 + 268 = 43 * 43\n"
     ]
    }
   ],
   "source": [
    "import \"fmt\"\n",
    "\n",
    "func t3() {\n",
    "    var i, j, m, n, x int\n",
    "    for i = 1; i < 168/2+1; i++ {\n",
    "        if 168%i == 0 {\n",
    "            j = 168 / i\n",
    "            if i > j && (i+j)%2 == 0 && (i-j)%2 == 0 {\n",
    "                m = (i + j) / 2\n",
    "                n = (i - j) / 2\n",
    "                x = n*n - 100\n",
    "                fmt.Printf(\"%d + 100 = %d * %d\\n\", x, n, n)\n",
    "                fmt.Printf(\"%d + 268 = %d * %d\\n\", x, m, m)\n",
    "            }\n",
    "        }\n",
    "    }\n",
    "}\n",
    "t3()"
   ]
  },
  {
   "cell_type": "markdown",
   "id": "curious-plant",
   "metadata": {},
   "source": [
    "## T4：输入某年某月某日，判断这一天是这一年的第几天？\n",
    "\n",
    "程序分析：以3月5日为例，应该先把前两个月的加起来，然后再加上5天即本年的第几天，特殊情况，闰年且输入月份大于3时需考虑多加一天。"
   ]
  },
  {
   "cell_type": "code",
   "execution_count": 4,
   "id": "atomic-construction",
   "metadata": {},
   "outputs": [
    {
     "ename": "ERROR",
     "evalue": "repl.go:25:12: undefined identifier: b",
     "output_type": "error",
     "traceback": [
      "repl.go:25:12: undefined identifier: b"
     ]
    }
   ],
   "source": [
    "import \"fmt\"\n",
    "\n",
    "func t4() {\n",
    "    var day, month, year, sum, leap int\n",
    "    // fmt.Print(\"Input: year month day: \")\n",
    "    // fmt.Scanf(\"%d %d %d\", &year, &month, &day)\n",
    "    year, month, day = 2015, 10, 2\n",
    "    switch (month) {\n",
    "    case 1:\n",
    "        sum = 0\n",
    "    case 2:\n",
    "        sum = 31\n",
    "    case 3:\n",
    "        sum = 59\n",
    "    case 4:\n",
    "        sum = 90\n",
    "    case 5:\n",
    "        sum = 120\n",
    "    case 6:\n",
    "        sum = 151\n",
    "    case 7:\n",
    "        sum = 181\n",
    "    case 8:\n",
    "        sum = 212\n",
    "    case 9:b\n",
    "        sum = 243\n",
    "    case 10:\n",
    "        sum = 273\n",
    "    case 11:\n",
    "        sum = 304\n",
    "    case 12:\n",
    "        sum = 334\n",
    "    default:\n",
    "        sum = 0\n",
    "    }\n",
    "    sum = sum + day\n",
    "    if year%400 == 0 || (year%4 == 0 && year%100 != 0) {\n",
    "        leap = 1\n",
    "    } else {\n",
    "        leap = 0\n",
    "    }\n",
    "    // *如果是闰年且月份大于2,总天数应该加一天\n",
    "    if leap == 1 && month > 2 {\n",
    "        sum++\n",
    "    }\n",
    "    fmt.Printf(\"这是这一年的第 %d 天。\\n\", sum)\n",
    "}\n",
    "t4()"
   ]
  },
  {
   "cell_type": "markdown",
   "id": "equal-artwork",
   "metadata": {},
   "source": [
    "## T5：输入三个整数 x，y，z，请把这三个数由小到大输出。"
   ]
  },
  {
   "cell_type": "code",
   "execution_count": 5,
   "id": "adjusted-garbage",
   "metadata": {},
   "outputs": [
    {
     "name": "stdout",
     "output_type": "stream",
     "text": [
      "从小到大排序: 1 2 5\n"
     ]
    }
   ],
   "source": [
    "import \"fmt\"\n",
    "\n",
    "func t5() {\n",
    "    var x, y, z int\n",
    "    // fmt.Print(\"请输入三个数字：\")\n",
    "    // fmt.Scanf(\"%d %d %d\", &x, &y, &z)\n",
    "    x, y, z = 2, 5, 1\n",
    "    if x > y {\n",
    "        x, y = y, x\n",
    "    }\n",
    "    if x > z {\n",
    "        x, z = z, x\n",
    "    }\n",
    "    if y > z {\n",
    "        y, z = z, y\n",
    "    }\n",
    "    fmt.Printf(\"从小到大排序: %d %d %d\\n\", x, y, z)\n",
    "}\n",
    "t5()"
   ]
  },
  {
   "cell_type": "markdown",
   "id": "personal-suggestion",
   "metadata": {},
   "source": [
    "## T6：用 * 号输出字母 C 的图案。"
   ]
  },
  {
   "cell_type": "code",
   "execution_count": 6,
   "id": "multiple-archives",
   "metadata": {},
   "outputs": [
    {
     "name": "stdout",
     "output_type": "stream",
     "text": [
      "用 * 号输出字母 C!\n",
      " ****\n",
      " *\n",
      " * \n",
      " ****\n"
     ]
    }
   ],
   "source": [
    "import \"fmt\"\n",
    "\n",
    "func t6() {\n",
    "    fmt.Printf(\"用 * 号输出字母 C!\\n\")\n",
    "    fmt.Printf(\" ****\\n\")\n",
    "    fmt.Printf(\" *\\n\")\n",
    "    fmt.Printf(\" * \\n\")\n",
    "    fmt.Printf(\" ****\\n\")\n",
    "}\n",
    "t6()"
   ]
  },
  {
   "cell_type": "markdown",
   "id": "frequent-turkey",
   "metadata": {},
   "source": [
    "## T7：输出特殊图案，请在 c 环境中运行，看一看，Very Beautiful!"
   ]
  },
  {
   "cell_type": "code",
   "execution_count": 7,
   "id": "suspected-medicine",
   "metadata": {},
   "outputs": [
    {
     "name": "stdout",
     "output_type": "stream",
     "text": [
      "Ò´´´Ò\n",
      "´Ò´Ò´\n",
      "´´Ò´´\n",
      "´Ò´Ò´\n",
      "Ò´´´Ò\n"
     ]
    }
   ],
   "source": [
    "import \"fmt\"\n",
    "\n",
    "func t7() {\n",
    "    var a, b = 180, 210\n",
    "    fmt.Printf(\"%c%c%c%c%c\\n\", b, a, a, a, b)\n",
    "    fmt.Printf(\"%c%c%c%c%c\\n\", a, b, a, b, a)\n",
    "    fmt.Printf(\"%c%c%c%c%c\\n\", a, a, b, a, a)\n",
    "    fmt.Printf(\"%c%c%c%c%c\\n\", a, b, a, b, a)\n",
    "    fmt.Printf(\"%c%c%c%c%c\\n\", b, a, a, a, b)\n",
    "}\n",
    "t7()"
   ]
  },
  {
   "cell_type": "markdown",
   "id": "hairy-investigation",
   "metadata": {},
   "source": [
    "## T8：输出 9 * 9 口诀"
   ]
  },
  {
   "cell_type": "code",
   "execution_count": 8,
   "id": "injured-drawing",
   "metadata": {},
   "outputs": [
    {
     "name": "stdout",
     "output_type": "stream",
     "text": [
      " 1 *  1 =  1 \n",
      " 2 *  1 =  2  2 *  2 =  4 \n",
      " 3 *  1 =  3  3 *  2 =  6  3 *  3 =  9 \n",
      " 4 *  1 =  4  4 *  2 =  8  4 *  3 = 12  4 *  4 = 16 \n",
      " 5 *  1 =  5  5 *  2 = 10  5 *  3 = 15  5 *  4 = 20  5 *  5 = 25 \n",
      " 6 *  1 =  6  6 *  2 = 12  6 *  3 = 18  6 *  4 = 24  6 *  5 = 30  6 *  6 = 36 \n",
      " 7 *  1 =  7  7 *  2 = 14  7 *  3 = 21  7 *  4 = 28  7 *  5 = 35  7 *  6 = 42  7 *  7 = 49 \n",
      " 8 *  1 =  8  8 *  2 = 16  8 *  3 = 24  8 *  4 = 32  8 *  5 = 40  8 *  6 = 48  8 *  7 = 56  8 *  8 = 64 \n",
      " 9 *  1 =  9  9 *  2 = 18  9 *  3 = 27  9 *  4 = 36  9 *  5 = 45  9 *  6 = 54  9 *  7 = 63  9 *  8 = 72  9 *  9 = 81 \n"
     ]
    }
   ],
   "source": [
    "import \"fmt\"\n",
    "\n",
    "func t8() {\n",
    "    size := 9\n",
    "    for i := 1; i <= size; i++ {\n",
    "        for j := 1; j <= i; j++ {\n",
    "            fmt.Printf(\"%2d * %2d = %2d \", i, j, i*j)\n",
    "        }\n",
    "        fmt.Println()\n",
    "    }\n",
    "\n",
    "}\n",
    "t8()"
   ]
  },
  {
   "cell_type": "markdown",
   "id": "comparable-rocket",
   "metadata": {},
   "source": [
    "## T9：要求输出国际象棋棋盘"
   ]
  },
  {
   "cell_type": "code",
   "execution_count": 9,
   "id": "based-canal",
   "metadata": {},
   "outputs": [
    {
     "name": "stdout",
     "output_type": "stream",
     "text": [
      "⬛⬜⬛⬜⬛⬜⬛⬜\n",
      "⬜⬛⬜⬛⬜⬛⬜⬛\n",
      "⬛⬜⬛⬜⬛⬜⬛⬜\n",
      "⬜⬛⬜⬛⬜⬛⬜⬛\n",
      "⬛⬜⬛⬜⬛⬜⬛⬜\n",
      "⬜⬛⬜⬛⬜⬛⬜⬛\n",
      "⬛⬜⬛⬜⬛⬜⬛⬜\n",
      "⬜⬛⬜⬛⬜⬛⬜⬛\n"
     ]
    }
   ],
   "source": [
    "import \"fmt\"\n",
    "\n",
    "func t9() {\n",
    "    size := 8\n",
    "    for i := 1; i <= size; i++ {\n",
    "        for j := 1; j <= size; j++ {\n",
    "            if (i+j)%2 == 0 {\n",
    "                fmt.Print(\"⬛\")\n",
    "            } else {\n",
    "                fmt.Print(\"⬜\")\n",
    "            }\n",
    "        }\n",
    "        fmt.Println()\n",
    "    }\n",
    "\n",
    "}\n",
    "t9()"
   ]
  },
  {
   "cell_type": "markdown",
   "id": "ecological-christian",
   "metadata": {},
   "source": [
    "## T10：打印楼梯，同时在楼梯上方打印两个笑脸"
   ]
  },
  {
   "cell_type": "code",
   "execution_count": 10,
   "id": "tamil-voluntary",
   "metadata": {},
   "outputs": [
    {
     "name": "stdout",
     "output_type": "stream",
     "text": [
      "😁😁\n",
      "⬛⬛\n",
      "⬛⬛⬛⬛\n",
      "⬛⬛⬛⬛⬛⬛\n",
      "⬛⬛⬛⬛⬛⬛⬛⬛\n",
      "⬛⬛⬛⬛⬛⬛⬛⬛⬛⬛\n",
      "⬛⬛⬛⬛⬛⬛⬛⬛⬛⬛⬛⬛\n",
      "⬛⬛⬛⬛⬛⬛⬛⬛⬛⬛⬛⬛⬛⬛\n",
      "⬛⬛⬛⬛⬛⬛⬛⬛⬛⬛⬛⬛⬛⬛⬛⬛\n",
      "⬛⬛⬛⬛⬛⬛⬛⬛⬛⬛⬛⬛⬛⬛⬛⬛⬛⬛\n",
      "⬛⬛⬛⬛⬛⬛⬛⬛⬛⬛⬛⬛⬛⬛⬛⬛⬛⬛⬛⬛\n",
      "⬛⬛⬛⬛⬛⬛⬛⬛⬛⬛⬛⬛⬛⬛⬛⬛⬛⬛⬛⬛⬛⬛\n"
     ]
    }
   ],
   "source": [
    "import \"fmt\"\n",
    "\n",
    "func t10() {\n",
    "    size := 11\n",
    "    fmt.Printf(\"😁😁\\n\")\n",
    "    for i := 1; i <= size; i++ {\n",
    "        for j := 1; j <= i; j++ {\n",
    "            fmt.Printf(\"⬛⬛\")\n",
    "        }\n",
    "        fmt.Println()\n",
    "    }\n",
    "\n",
    "}\n",
    "t10()"
   ]
  }
 ],
 "metadata": {
  "kernelspec": {
   "display_name": "Go",
   "language": "go",
   "name": "gophernotes"
  },
  "language_info": {
   "codemirror_mode": "",
   "file_extension": ".go",
   "mimetype": "",
   "name": "go",
   "nbconvert_exporter": "",
   "pygments_lexer": "",
   "version": "go1.13.8"
  },
  "toc": {
   "base_numbering": 1,
   "nav_menu": {},
   "number_sections": true,
   "sideBar": true,
   "skip_h1_title": false,
   "title_cell": "Table of Contents",
   "title_sidebar": "Contents",
   "toc_cell": false,
   "toc_position": {
    "height": "calc(100% - 180px)",
    "left": "10px",
    "top": "150px",
    "width": "283px"
   },
   "toc_section_display": true,
   "toc_window_display": true
  }
 },
 "nbformat": 4,
 "nbformat_minor": 5
}
