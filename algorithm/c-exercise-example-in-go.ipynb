{
 "cells": [
  {
   "cell_type": "markdown",
   "id": "medium-voltage",
   "metadata": {},
   "source": [
    "> @Date    : 2021-05-13 19:34:00\n",
    ">\n",
    "> @Author  : Lewis Tian (taseikyo@gmail.com)\n",
    ">\n",
    "> @Link    : github.com/taseikyo\n",
    "\n",
    "# C 语言经典 100 例\n",
    "\n",
    "菜鸟教程上有 C 语言的代码：https://www.runoob.com/cprogramming/c-100-examples.html\n",
    "\n",
    "为了练习 Go 语言，用 Go 实现一遍 :3\n",
    "\n",
    "## T1：有1、2、3、4个数字，能组成多少个互不相同且无重复数字的三位数？都是多少？"
   ]
  },
  {
   "cell_type": "code",
   "execution_count": 1,
   "id": "fallen-genre",
   "metadata": {},
   "outputs": [
    {
     "name": "stdout",
     "output_type": "stream",
     "text": [
      "1 2 3 4\n",
      "1 2 4 3\n",
      "1 3 2 4\n",
      "1 3 4 2\n",
      "1 4 2 3\n",
      "1 4 3 2\n",
      "2 1 3 4\n",
      "2 1 4 3\n",
      "2 3 1 4\n",
      "2 3 4 1\n",
      "2 4 1 3\n",
      "2 4 3 1\n",
      "3 1 2 4\n",
      "3 1 4 2\n",
      "3 2 1 4\n",
      "3 2 4 1\n",
      "3 4 1 2\n",
      "3 4 2 1\n",
      "4 1 2 3\n",
      "4 1 3 2\n",
      "4 2 1 3\n",
      "4 2 3 1\n",
      "4 3 1 2\n",
      "4 3 2 1\n"
     ]
    }
   ],
   "source": [
    "import \"fmt\"\n",
    "\n",
    "func t1() {\n",
    "    sum := 1+2+3+4\n",
    "    for i := 1;i < 5;i++ {\n",
    "        for j := 1;j < 5;j++ {\n",
    "            for k := 1;k < 5;k++ {\n",
    "                if i != j && j != k && i != k {\n",
    "                    fmt.Println(i, j, k, sum-i-j-k)\n",
    "                }\n",
    "            }\n",
    "        }\n",
    "    }\n",
    "}\n",
    "\n",
    "t1()"
   ]
  },
  {
   "cell_type": "markdown",
   "id": "thrown-attachment",
   "metadata": {},
   "source": [
    "## T2：企业发放的奖金根据利润提成。\n",
    "\n",
    "- 利润低于或等于 10 万元时，奖金可提 10%；\n",
    "- 利润高于 10 万元，低于 20 万元时，低于 10 万元的部分按 10% 提成，高于 10 万元的部分，可提成 7.5%；\n",
    "- 20 万到 40 万之间时，高于 20 万元的部分，可提成 5%；\n",
    "- 40 万到 60 万之间时高于 40 万元的部分，可提成 3%；\n",
    "- 60 万到 100 万之间时，高于 60 万元的部分，可提成 1.5%；\n",
    "- 高于 100 万元时，超过 100 万元的部分按 1% 提成。\n",
    "\n",
    "从键盘输入当月利润，求应发放奖金总数？"
   ]
  },
  {
   "cell_type": "code",
   "execution_count": 2,
   "id": "ambient-value",
   "metadata": {},
   "outputs": [
    {
     "name": "stdout",
     "output_type": "stream",
     "text": [
      "11500\n"
     ]
    }
   ],
   "source": [
    "import \"fmt\"\n",
    "\n",
    "func t2() {\n",
    "    money := 12.0 * 10000\n",
    "\n",
    "    var bonus float64\n",
    "    bonus1 := 100000 * 0.1\n",
    "    bonus2 := bonus1 + 100000*0.075\n",
    "    bonus4 := bonus2 + 200000*0.05\n",
    "    bonus6 := bonus4 + 200000*0.03\n",
    "    bonus10 := bonus6 + 400000*0.015\n",
    "    if money <= 100000 {\n",
    "        bonus = money * 0.1\n",
    "    } else if money <= 200000 {\n",
    "        bonus = bonus1 + (money-100000)*0.075\n",
    "    } else if money <= 400000 {\n",
    "        bonus = bonus2 + (money-200000)*0.05\n",
    "    } else if money <= 600000 {\n",
    "        bonus = bonus4 + (money-400000)*0.03\n",
    "    } else if money <= 1000000 {\n",
    "        bonus = bonus6 + (money-600000)*0.015\n",
    "    } else {\n",
    "        bonus = bonus10 + (money-1000000)*0.01\n",
    "    }\n",
    "    fmt.Println(bonus)\n",
    "}\n",
    "\n",
    "t2()"
   ]
  },
  {
   "cell_type": "markdown",
   "id": "electronic-division",
   "metadata": {},
   "source": [
    "## T3：一个整数，它加上 100 后是一个完全平方数，再加上 168 又是一个完全平方数，请问该数是多少？\n",
    "\n",
    "程序分析：\n",
    "\n",
    "假设该数为 x。\n",
    "\n",
    "1. 则：x + 100 = n^2, x + 100 + 168 = m^2\n",
    "1. 计算等式：m^2 - n^2 = (m + n)(m - n) = 168\n",
    "1. 设置： m + n = i，m - n = j，i * j =168，i 和 j 至少一个是偶数\n",
    "1. 可得： m = (i + j) / 2， n = (i - j) / 2，i 和 j 要么都是偶数，要么都是奇数。\n",
    "1. 从 3 和 4 推导可知道，i 与 j 均是大于等于 2 的偶数。\n",
    "1. 由于 i * j = 168， j>=2，则 1 < i < 168 / 2 + 1。\n",
    "1. 接下来将 i 的所有数字循环计算即可。"
   ]
  },
  {
   "cell_type": "code",
   "execution_count": 3,
   "id": "eleven-stick",
   "metadata": {},
   "outputs": [
    {
     "name": "stdout",
     "output_type": "stream",
     "text": [
      "-99 + 100 = 1 * 1\n",
      "-99 + 268 = 13 * 13\n",
      "21 + 100 = 11 * 11\n",
      "21 + 268 = 17 * 17\n",
      "261 + 100 = 19 * 19\n",
      "261 + 268 = 23 * 23\n",
      "1581 + 100 = 41 * 41\n",
      "1581 + 268 = 43 * 43\n"
     ]
    }
   ],
   "source": [
    "import \"fmt\"\n",
    "\n",
    "func t3() {\n",
    "    var i, j, m, n, x int\n",
    "    for i = 1; i < 168/2+1; i++ {\n",
    "        if 168%i == 0 {\n",
    "            j = 168 / i\n",
    "            if i > j && (i+j)%2 == 0 && (i-j)%2 == 0 {\n",
    "                m = (i + j) / 2\n",
    "                n = (i - j) / 2\n",
    "                x = n*n - 100\n",
    "                fmt.Printf(\"%d + 100 = %d * %d\\n\", x, n, n)\n",
    "                fmt.Printf(\"%d + 268 = %d * %d\\n\", x, m, m)\n",
    "            }\n",
    "        }\n",
    "    }\n",
    "}\n",
    "t3()"
   ]
  },
  {
   "cell_type": "markdown",
   "id": "curious-plant",
   "metadata": {},
   "source": [
    "## T4：输入某年某月某日，判断这一天是这一年的第几天？\n",
    "\n",
    "程序分析：以3月5日为例，应该先把前两个月的加起来，然后再加上5天即本年的第几天，特殊情况，闰年且输入月份大于3时需考虑多加一天。"
   ]
  },
  {
   "cell_type": "code",
   "execution_count": 4,
   "id": "atomic-construction",
   "metadata": {},
   "outputs": [
    {
     "ename": "ERROR",
     "evalue": "repl.go:25:12: undefined identifier: b",
     "output_type": "error",
     "traceback": [
      "repl.go:25:12: undefined identifier: b"
     ]
    }
   ],
   "source": [
    "import \"fmt\"\n",
    "\n",
    "func t4() {\n",
    "    var day, month, year, sum, leap int\n",
    "    // fmt.Print(\"Input: year month day: \")\n",
    "    // fmt.Scanf(\"%d %d %d\", &year, &month, &day)\n",
    "    year, month, day = 2015, 10, 2\n",
    "    switch (month) {\n",
    "    case 1:\n",
    "        sum = 0\n",
    "    case 2:\n",
    "        sum = 31\n",
    "    case 3:\n",
    "        sum = 59\n",
    "    case 4:\n",
    "        sum = 90\n",
    "    case 5:\n",
    "        sum = 120\n",
    "    case 6:\n",
    "        sum = 151\n",
    "    case 7:\n",
    "        sum = 181\n",
    "    case 8:\n",
    "        sum = 212\n",
    "    case 9:b\n",
    "        sum = 243\n",
    "    case 10:\n",
    "        sum = 273\n",
    "    case 11:\n",
    "        sum = 304\n",
    "    case 12:\n",
    "        sum = 334\n",
    "    default:\n",
    "        sum = 0\n",
    "    }\n",
    "    sum = sum + day\n",
    "    if year%400 == 0 || (year%4 == 0 && year%100 != 0) {\n",
    "        leap = 1\n",
    "    } else {\n",
    "        leap = 0\n",
    "    }\n",
    "    // *如果是闰年且月份大于2,总天数应该加一天\n",
    "    if leap == 1 && month > 2 {\n",
    "        sum++\n",
    "    }\n",
    "    fmt.Printf(\"这是这一年的第 %d 天。\\n\", sum)\n",
    "}\n",
    "t4()"
   ]
  },
  {
   "cell_type": "markdown",
   "id": "equal-artwork",
   "metadata": {},
   "source": [
    "## T5：输入三个整数 x，y，z，请把这三个数由小到大输出。"
   ]
  },
  {
   "cell_type": "code",
   "execution_count": 5,
   "id": "adjusted-garbage",
   "metadata": {},
   "outputs": [
    {
     "name": "stdout",
     "output_type": "stream",
     "text": [
      "从小到大排序: 1 2 5\n"
     ]
    }
   ],
   "source": [
    "import \"fmt\"\n",
    "\n",
    "func t5() {\n",
    "    var x, y, z int\n",
    "    // fmt.Print(\"请输入三个数字：\")\n",
    "    // fmt.Scanf(\"%d %d %d\", &x, &y, &z)\n",
    "    x, y, z = 2, 5, 1\n",
    "    if x > y {\n",
    "        x, y = y, x\n",
    "    }\n",
    "    if x > z {\n",
    "        x, z = z, x\n",
    "    }\n",
    "    if y > z {\n",
    "        y, z = z, y\n",
    "    }\n",
    "    fmt.Printf(\"从小到大排序: %d %d %d\\n\", x, y, z)\n",
    "}\n",
    "t5()"
   ]
  },
  {
   "cell_type": "markdown",
   "id": "personal-suggestion",
   "metadata": {},
   "source": [
    "## T6：用 * 号输出字母 C 的图案。"
   ]
  },
  {
   "cell_type": "code",
   "execution_count": 6,
   "id": "multiple-archives",
   "metadata": {},
   "outputs": [
    {
     "name": "stdout",
     "output_type": "stream",
     "text": [
      "用 * 号输出字母 C!\n",
      " ****\n",
      " *\n",
      " * \n",
      " ****\n"
     ]
    }
   ],
   "source": [
    "import \"fmt\"\n",
    "\n",
    "func t6() {\n",
    "    fmt.Printf(\"用 * 号输出字母 C!\\n\")\n",
    "    fmt.Printf(\" ****\\n\")\n",
    "    fmt.Printf(\" *\\n\")\n",
    "    fmt.Printf(\" * \\n\")\n",
    "    fmt.Printf(\" ****\\n\")\n",
    "}\n",
    "t6()"
   ]
  },
  {
   "cell_type": "markdown",
   "id": "frequent-turkey",
   "metadata": {},
   "source": [
    "## T7：输出特殊图案，请在 c 环境中运行，看一看，Very Beautiful!"
   ]
  },
  {
   "cell_type": "code",
   "execution_count": 7,
   "id": "suspected-medicine",
   "metadata": {},
   "outputs": [
    {
     "name": "stdout",
     "output_type": "stream",
     "text": [
      "Ò´´´Ò\n",
      "´Ò´Ò´\n",
      "´´Ò´´\n",
      "´Ò´Ò´\n",
      "Ò´´´Ò\n"
     ]
    }
   ],
   "source": [
    "import \"fmt\"\n",
    "\n",
    "func t7() {\n",
    "    var a, b = 180, 210\n",
    "    fmt.Printf(\"%c%c%c%c%c\\n\", b, a, a, a, b)\n",
    "    fmt.Printf(\"%c%c%c%c%c\\n\", a, b, a, b, a)\n",
    "    fmt.Printf(\"%c%c%c%c%c\\n\", a, a, b, a, a)\n",
    "    fmt.Printf(\"%c%c%c%c%c\\n\", a, b, a, b, a)\n",
    "    fmt.Printf(\"%c%c%c%c%c\\n\", b, a, a, a, b)\n",
    "}\n",
    "t7()"
   ]
  },
  {
   "cell_type": "markdown",
   "id": "hairy-investigation",
   "metadata": {},
   "source": [
    "## T8：输出 9 * 9 口诀"
   ]
  },
  {
   "cell_type": "code",
   "execution_count": 8,
   "id": "injured-drawing",
   "metadata": {},
   "outputs": [
    {
     "name": "stdout",
     "output_type": "stream",
     "text": [
      " 1 *  1 =  1 \n",
      " 2 *  1 =  2  2 *  2 =  4 \n",
      " 3 *  1 =  3  3 *  2 =  6  3 *  3 =  9 \n",
      " 4 *  1 =  4  4 *  2 =  8  4 *  3 = 12  4 *  4 = 16 \n",
      " 5 *  1 =  5  5 *  2 = 10  5 *  3 = 15  5 *  4 = 20  5 *  5 = 25 \n",
      " 6 *  1 =  6  6 *  2 = 12  6 *  3 = 18  6 *  4 = 24  6 *  5 = 30  6 *  6 = 36 \n",
      " 7 *  1 =  7  7 *  2 = 14  7 *  3 = 21  7 *  4 = 28  7 *  5 = 35  7 *  6 = 42  7 *  7 = 49 \n",
      " 8 *  1 =  8  8 *  2 = 16  8 *  3 = 24  8 *  4 = 32  8 *  5 = 40  8 *  6 = 48  8 *  7 = 56  8 *  8 = 64 \n",
      " 9 *  1 =  9  9 *  2 = 18  9 *  3 = 27  9 *  4 = 36  9 *  5 = 45  9 *  6 = 54  9 *  7 = 63  9 *  8 = 72  9 *  9 = 81 \n"
     ]
    }
   ],
   "source": [
    "import \"fmt\"\n",
    "\n",
    "func t8() {\n",
    "    size := 9\n",
    "    for i := 1; i <= size; i++ {\n",
    "        for j := 1; j <= i; j++ {\n",
    "            fmt.Printf(\"%2d * %2d = %2d \", i, j, i*j)\n",
    "        }\n",
    "        fmt.Println()\n",
    "    }\n",
    "\n",
    "}\n",
    "t8()"
   ]
  },
  {
   "cell_type": "markdown",
   "id": "comparable-rocket",
   "metadata": {},
   "source": [
    "## T9：要求输出国际象棋棋盘"
   ]
  },
  {
   "cell_type": "code",
   "execution_count": 9,
   "id": "based-canal",
   "metadata": {},
   "outputs": [
    {
     "name": "stdout",
     "output_type": "stream",
     "text": [
      "⬛⬜⬛⬜⬛⬜⬛⬜\n",
      "⬜⬛⬜⬛⬜⬛⬜⬛\n",
      "⬛⬜⬛⬜⬛⬜⬛⬜\n",
      "⬜⬛⬜⬛⬜⬛⬜⬛\n",
      "⬛⬜⬛⬜⬛⬜⬛⬜\n",
      "⬜⬛⬜⬛⬜⬛⬜⬛\n",
      "⬛⬜⬛⬜⬛⬜⬛⬜\n",
      "⬜⬛⬜⬛⬜⬛⬜⬛\n"
     ]
    }
   ],
   "source": [
    "import \"fmt\"\n",
    "\n",
    "func t9() {\n",
    "    size := 8\n",
    "    for i := 1; i <= size; i++ {\n",
    "        for j := 1; j <= size; j++ {\n",
    "            if (i+j)%2 == 0 {\n",
    "                fmt.Print(\"⬛\")\n",
    "            } else {\n",
    "                fmt.Print(\"⬜\")\n",
    "            }\n",
    "        }\n",
    "        fmt.Println()\n",
    "    }\n",
    "\n",
    "}\n",
    "t9()"
   ]
  },
  {
   "cell_type": "markdown",
   "id": "ecological-christian",
   "metadata": {},
   "source": [
    "## T10：打印楼梯，同时在楼梯上方打印两个笑脸"
   ]
  },
  {
   "cell_type": "code",
   "execution_count": 10,
   "id": "tamil-voluntary",
   "metadata": {
    "scrolled": true
   },
   "outputs": [
    {
     "name": "stdout",
     "output_type": "stream",
     "text": [
      "😁😁\n",
      "⬛⬛\n",
      "⬛⬛⬛⬛\n",
      "⬛⬛⬛⬛⬛⬛\n",
      "⬛⬛⬛⬛⬛⬛⬛⬛\n",
      "⬛⬛⬛⬛⬛⬛⬛⬛⬛⬛\n",
      "⬛⬛⬛⬛⬛⬛⬛⬛⬛⬛⬛⬛\n",
      "⬛⬛⬛⬛⬛⬛⬛⬛⬛⬛⬛⬛⬛⬛\n",
      "⬛⬛⬛⬛⬛⬛⬛⬛⬛⬛⬛⬛⬛⬛⬛⬛\n",
      "⬛⬛⬛⬛⬛⬛⬛⬛⬛⬛⬛⬛⬛⬛⬛⬛⬛⬛\n",
      "⬛⬛⬛⬛⬛⬛⬛⬛⬛⬛⬛⬛⬛⬛⬛⬛⬛⬛⬛⬛\n",
      "⬛⬛⬛⬛⬛⬛⬛⬛⬛⬛⬛⬛⬛⬛⬛⬛⬛⬛⬛⬛⬛⬛\n"
     ]
    }
   ],
   "source": [
    "import \"fmt\"\n",
    "\n",
    "func t10() {\n",
    "    size := 11\n",
    "    fmt.Printf(\"😁😁\\n\")\n",
    "    for i := 1; i <= size; i++ {\n",
    "        for j := 1; j <= i; j++ {\n",
    "            fmt.Printf(\"⬛⬛\")\n",
    "        }\n",
    "        fmt.Println()\n",
    "    }\n",
    "\n",
    "}\n",
    "t10()"
   ]
  },
  {
   "cell_type": "markdown",
   "id": "small-shock",
   "metadata": {},
   "source": [
    "## T11：古典问题（兔子生崽）：有一对兔子，从出生后第 3 个月起每个月都生一对兔子，小兔子长到第三个月后每个月又生一对兔子，假如兔子都不死，问每个月的兔子总数为多少？（输出前 40 个月即可）\n",
    "\n",
    "程序分析：兔子的规律为数列1,1,2,3,5,8,13,21....，即下个月是上两个月之和（从第三个月开始）。"
   ]
  },
  {
   "cell_type": "code",
   "execution_count": 11,
   "id": "regular-envelope",
   "metadata": {},
   "outputs": [
    {
     "name": "stdout",
     "output_type": "stream",
     "text": [
      "                   1                    1\n",
      "                   2                    3                   5                    8\n",
      "                  13                   21                  34                   55\n",
      "                  89                  144                 233                  377\n",
      "                 610                  987                1597                 2584\n",
      "                4181                 6765               10946                17711\n",
      "               28657                46368               75025               121393\n",
      "              196418               317811              514229               832040\n",
      "             1346269              2178309             3524578              5702887\n",
      "             9227465             14930352            24157817             39088169\n",
      "            63245986            102334155           165580141            267914296\n",
      "           433494437            701408733          1134903170           1836311903\n",
      "          2971215073           4807526976          7778742049          12586269025\n",
      "         20365011074          32951280099         53316291173          86267571272\n",
      "        139583862445         225851433717        365435296162         591286729879\n",
      "        956722026041        1548008755920       2504730781961        4052739537881\n",
      "       6557470319842       10610209857723      17167680177565       27777890035288\n",
      "      44945570212853       72723460248141     117669030460994      190392490709135\n",
      "     308061521170129      498454011879264     806515533049393     1304969544928657\n",
      "    2111485077978050     3416454622906707    5527939700884757     8944394323791464\n",
      "   14472334024676221    23416728348467685"
     ]
    }
   ],
   "source": [
    "import \"fmt\"\n",
    "\n",
    "func t11() {\n",
    "    f1, f2 := 1, 1\n",
    "    size := 40\n",
    "    for i := 0; i < size; i++ {\n",
    "        fmt.Printf(\"%20d %20d\", f1, f2)\n",
    "        f1 = f1 + f2\n",
    "        f2 = f1 + f2\n",
    "        if i%2 == 0 {\n",
    "            fmt.Println()\n",
    "        }\n",
    "    }\n",
    "}\n",
    "t11()"
   ]
  },
  {
   "cell_type": "markdown",
   "id": "according-nutrition",
   "metadata": {},
   "source": [
    "## T12：判断101 到 200 之间的素数"
   ]
  },
  {
   "cell_type": "code",
   "execution_count": 12,
   "id": "inner-korean",
   "metadata": {},
   "outputs": [
    {
     "name": "stdout",
     "output_type": "stream",
     "text": [
      "101 103 107 109 113 127 131 137 139 149 151 157 163 167 173 179 181 191 193 197 199 "
     ]
    }
   ],
   "source": [
    "import (\n",
    "    \"fmt\"\n",
    "    \"math\"\n",
    ")\n",
    "\n",
    "func t12() {\n",
    "    lower, upper :=101, 201\n",
    "    for i := lower; i < upper; i++ {\n",
    "        flag := false\n",
    "        for j := 2; j <= int(math.Sqrt(float64(i))); j++ {\n",
    "            if i % j == 0 {\n",
    "                flag = true\n",
    "                break\n",
    "            }\n",
    "        }\n",
    "        if !flag {\n",
    "            fmt.Printf(\"%d \", i)\n",
    "        }\n",
    "\n",
    "    }\n",
    "}\n",
    "\n",
    "t12()"
   ]
  },
  {
   "cell_type": "markdown",
   "id": "unexpected-certificate",
   "metadata": {},
   "source": [
    "## T13：打印出所有的\"水仙花数\"，所谓\"水仙花数\"是指一个三位数，其各位数字立方和等于该数本身"
   ]
  },
  {
   "cell_type": "code",
   "execution_count": 13,
   "id": "overhead-radiation",
   "metadata": {},
   "outputs": [
    {
     "name": "stdout",
     "output_type": "stream",
     "text": [
      "153 370 371 407 "
     ]
    }
   ],
   "source": [
    "import \"fmt\"\n",
    "\n",
    "func t13() {\n",
    "    var x, y, z int\n",
    "    for i := 100; i < 1000; i++ {\n",
    "        x = i % 10\n",
    "        y = i / 10 % 10\n",
    "        z = i / 100 % 10\n",
    "        if i == (x*x*x + y*y*y + z*z*z) {\n",
    "            fmt.Printf(\"%d \", i)\n",
    "        }\n",
    "    }\n",
    "}\n",
    "t13()"
   ]
  },
  {
   "cell_type": "markdown",
   "id": "higher-mission",
   "metadata": {},
   "source": [
    "## T14：将一个正整数分解质因数。例如：输入 90 打印出 `90=2*3*3*5`\n",
    "\n",
    "程序分析：对 n 进行分解质因数，应先找到一个最小的质数 k，然后按下述步骤完成：\n",
    "\n",
    "1. 如果这个质数恰等于（小于的时候，继续执行循环）n，则说明分解质因数的过程已经结束，另外 打印出即可。\n",
    "1. 如果 n 能被 k 整除，则应打印出 k 的值，并用 n 除以 k 的商，作为新的正整数 n。重复执行第二步。\n",
    "1. 如果 n 不能被 k 整除，则用 k+1 作为 k 的值，重复执行第一步。"
   ]
  },
  {
   "cell_type": "code",
   "execution_count": 14,
   "id": "interesting-range",
   "metadata": {},
   "outputs": [
    {
     "name": "stdout",
     "output_type": "stream",
     "text": [
      "1025=5*5*41"
     ]
    }
   ],
   "source": [
    "import \"fmt\"\n",
    "\n",
    "func t14() {\n",
    "    n := 1025\n",
    "    fmt.Printf(\"%d=\", n)\n",
    "    for i := 2; i <= n; i++ {\n",
    "        for n%i == 0 {\n",
    "            fmt.Printf(\"%d\", i)\n",
    "            n /= i\n",
    "            if n != 1 {\n",
    "                fmt.Printf(\"*\")\n",
    "            }\n",
    "        }\n",
    "    }\n",
    "}\n",
    "t14()"
   ]
  },
  {
   "cell_type": "markdown",
   "id": "appropriate-employment",
   "metadata": {},
   "source": [
    "## T15：利用条件运算符的嵌套来完成此题：学习成绩 >=90 分的同学用 A 表示，60-89 分之间的用 B 表示，60 分以下的用 C 表示。"
   ]
  },
  {
   "cell_type": "code",
   "execution_count": 15,
   "id": "adjustable-hampshire",
   "metadata": {},
   "outputs": [
    {
     "name": "stdout",
     "output_type": "stream",
     "text": [
      "B\n"
     ]
    }
   ],
   "source": [
    "import \"fmt\"\n",
    "\n",
    "func t15() {\n",
    "    var grade int8\n",
    "    score := 89\n",
    "    if score >= 90 {\n",
    "        grade = 'A'\n",
    "    } else if score >= 60 {\n",
    "        grade = 'B'\n",
    "    } else {\n",
    "        grade = 'C'\n",
    "    }\n",
    "    fmt.Printf(\"%c\\n\", grade)\n",
    "}\n",
    "t15()"
   ]
  }
 ],
 "metadata": {
  "kernelspec": {
   "display_name": "Go",
   "language": "go",
   "name": "gophernotes"
  },
  "language_info": {
   "codemirror_mode": "",
   "file_extension": ".go",
   "mimetype": "",
   "name": "go",
   "nbconvert_exporter": "",
   "pygments_lexer": "",
   "version": "go1.13.8"
  },
  "toc": {
   "base_numbering": 1,
   "nav_menu": {},
   "number_sections": true,
   "sideBar": true,
   "skip_h1_title": false,
   "title_cell": "Table of Contents",
   "title_sidebar": "Contents",
   "toc_cell": false,
   "toc_position": {
    "height": "calc(100% - 180px)",
    "left": "10px",
    "top": "150px",
    "width": "283px"
   },
   "toc_section_display": true,
   "toc_window_display": true
  }
 },
 "nbformat": 4,
 "nbformat_minor": 5
}
